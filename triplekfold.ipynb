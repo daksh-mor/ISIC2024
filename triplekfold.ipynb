{
 "cells": [
  {
   "cell_type": "code",
   "execution_count": 1,
   "id": "972af6d3",
   "metadata": {
    "execution": {
     "iopub.execute_input": "2024-09-06T20:13:05.521752Z",
     "iopub.status.busy": "2024-09-06T20:13:05.520899Z",
     "iopub.status.idle": "2024-09-06T20:13:11.140254Z",
     "shell.execute_reply": "2024-09-06T20:13:11.139412Z"
    },
    "papermill": {
     "duration": 5.634317,
     "end_time": "2024-09-06T20:13:11.142540",
     "exception": false,
     "start_time": "2024-09-06T20:13:05.508223",
     "status": "completed"
    },
    "tags": []
   },
   "outputs": [],
   "source": [
    "import pandas as pd\n",
    "import numpy as np\n",
    "import h5py\n",
    "import io\n",
    "import lightgbm as lgb\n",
    "import warnings \n",
    "warnings.filterwarnings('ignore')\n",
    "from sklearn.model_selection import StratifiedGroupKFold ,StratifiedKFold\n",
    "from tqdm.auto import tqdm"
   ]
  },
  {
   "cell_type": "code",
   "execution_count": 2,
   "id": "7aa0b1b0",
   "metadata": {
    "execution": {
     "iopub.execute_input": "2024-09-06T20:13:11.165913Z",
     "iopub.status.busy": "2024-09-06T20:13:11.165301Z",
     "iopub.status.idle": "2024-09-06T20:13:25.663099Z",
     "shell.execute_reply": "2024-09-06T20:13:25.661600Z"
    },
    "papermill": {
     "duration": 14.511408,
     "end_time": "2024-09-06T20:13:25.665292",
     "exception": false,
     "start_time": "2024-09-06T20:13:11.153884",
     "status": "completed"
    },
    "tags": []
   },
   "outputs": [
    {
     "name": "stdout",
     "output_type": "stream",
     "text": [
      "\n",
      "... LOADS EFFNET PREDICTION RESULT ...\n",
      "\n",
      "BEST_WEIGHT = /kaggle/input/isic-pytorch-training-baseline-image-only/AUROC0.5175_Loss0.3478_epoch37.bin\r\n",
      "100%|█████████████████████████████████████████████| 1/1 [00:00<00:00,  1.03it/s]\r\n",
      "\n",
      "... LOADS COMPLETE ...\n",
      "\n"
     ]
    }
   ],
   "source": [
    "print(\"\\n... LOADS EFFNET PREDICTION RESULT ...\\n\")\n",
    "\n",
    "!python /kaggle/input/k/motono0223/isic-script-inference-effnetv1b0-f313ae/main.py /kaggle/input/isic-pytorch-training-baseline-image-only/AUROC0.5175_Loss0.3478_epoch37.bin\n",
    "!mv submission.csv submission_effnetv1b0.csv\n",
    "\n",
    "print(\"\\n... LOADS COMPLETE ...\\n\")"
   ]
  },
  {
   "cell_type": "code",
   "execution_count": 3,
   "id": "d910def8",
   "metadata": {
    "execution": {
     "iopub.execute_input": "2024-09-06T20:13:25.689509Z",
     "iopub.status.busy": "2024-09-06T20:13:25.688698Z",
     "iopub.status.idle": "2024-09-06T20:13:35.339337Z",
     "shell.execute_reply": "2024-09-06T20:13:35.338481Z"
    },
    "papermill": {
     "duration": 9.66593,
     "end_time": "2024-09-06T20:13:35.342147",
     "exception": false,
     "start_time": "2024-09-06T20:13:25.676217",
     "status": "completed"
    },
    "tags": []
   },
   "outputs": [],
   "source": [
    "df_train = pd.read_csv('/kaggle/input/isic-2024-challenge/train-metadata.csv',low_memory=False)\n",
    "df_test = pd.read_csv('/kaggle/input/isic-2024-challenge/test-metadata.csv',low_memory=False)\n",
    "ind = df_test['isic_id']"
   ]
  },
  {
   "cell_type": "code",
   "execution_count": 4,
   "id": "9504359b",
   "metadata": {
    "execution": {
     "iopub.execute_input": "2024-09-06T20:13:35.366811Z",
     "iopub.status.busy": "2024-09-06T20:13:35.366435Z",
     "iopub.status.idle": "2024-09-06T20:14:47.685591Z",
     "shell.execute_reply": "2024-09-06T20:14:47.684480Z"
    },
    "papermill": {
     "duration": 72.333895,
     "end_time": "2024-09-06T20:14:47.688607",
     "exception": false,
     "start_time": "2024-09-06T20:13:35.354712",
     "status": "completed"
    },
    "tags": []
   },
   "outputs": [],
   "source": [
    "f = h5py.File('/kaggle/input/isic-2024-challenge/train-image.hdf5')\n",
    "df_train['path']=list(f.keys())\n",
    "f2 = h5py.File('/kaggle/input/isic-2024-challenge/test-image.hdf5')\n",
    "df_test['path']=list(f2.keys())"
   ]
  },
  {
   "cell_type": "code",
   "execution_count": 5,
   "id": "c1a671c7",
   "metadata": {
    "execution": {
     "iopub.execute_input": "2024-09-06T20:14:47.715806Z",
     "iopub.status.busy": "2024-09-06T20:14:47.715035Z",
     "iopub.status.idle": "2024-09-06T20:14:55.270438Z",
     "shell.execute_reply": "2024-09-06T20:14:55.269561Z"
    },
    "papermill": {
     "duration": 7.57144,
     "end_time": "2024-09-06T20:14:55.273040",
     "exception": false,
     "start_time": "2024-09-06T20:14:47.701600",
     "status": "completed"
    },
    "tags": []
   },
   "outputs": [],
   "source": [
    "df_eff = pd.read_csv(\"/kaggle/input/isic-inference-effnetv1b0-for-training-data/train_effnetv1b0.csv\")\n",
    "# df_train = df_train.reset_index(drop=True)\n",
    "# df_eff = df_eff.reset_index(drop=True)\n",
    "df_train[\"target_effnetv1b0\"] = df_eff[\"target_effnetv1b0\"]\n",
    "df_eff = pd.read_csv(\"submission_effnetv1b0.csv\")\n",
    "# df_test = df_test.reset_index(drop=True)\n",
    "# df_eff = df_eff.reset_index(drop=True)\n",
    "df_test[\"target_effnetv1b0\"] = df_eff[\"target\"]"
   ]
  },
  {
   "cell_type": "code",
   "execution_count": 6,
   "id": "90a6b013",
   "metadata": {
    "execution": {
     "iopub.execute_input": "2024-09-06T20:14:55.299782Z",
     "iopub.status.busy": "2024-09-06T20:14:55.299416Z",
     "iopub.status.idle": "2024-09-06T20:14:55.305574Z",
     "shell.execute_reply": "2024-09-06T20:14:55.304676Z"
    },
    "papermill": {
     "duration": 0.021491,
     "end_time": "2024-09-06T20:14:55.307931",
     "exception": false,
     "start_time": "2024-09-06T20:14:55.286440",
     "status": "completed"
    },
    "tags": []
   },
   "outputs": [],
   "source": [
    "feature_col = list(set(df_train)&set(df_test))\n",
    "feature_col.remove('isic_id')\n",
    "feature_col.remove('path')\n",
    "feature_col.remove('patient_id')\n",
    "feature_col.remove('sex')\n",
    "feature_col.remove('age_approx')\n",
    "feature_col.remove('anatom_site_general')\n",
    "feature_col.remove('copyright_license')\n",
    "feature_col.remove('image_type')"
   ]
  },
  {
   "cell_type": "code",
   "execution_count": 7,
   "id": "7b28a446",
   "metadata": {
    "execution": {
     "iopub.execute_input": "2024-09-06T20:14:55.333498Z",
     "iopub.status.busy": "2024-09-06T20:14:55.332876Z",
     "iopub.status.idle": "2024-09-06T20:14:55.337180Z",
     "shell.execute_reply": "2024-09-06T20:14:55.336259Z"
    },
    "papermill": {
     "duration": 0.019024,
     "end_time": "2024-09-06T20:14:55.339349",
     "exception": false,
     "start_time": "2024-09-06T20:14:55.320325",
     "status": "completed"
    },
    "tags": []
   },
   "outputs": [],
   "source": [
    "categorical_col=[\n",
    " 'attribution',\n",
    " 'tbp_tile_type',\n",
    " 'tbp_lv_location',\n",
    " 'tbp_lv_location_simple']"
   ]
  },
  {
   "cell_type": "code",
   "execution_count": 8,
   "id": "e75ce213",
   "metadata": {
    "execution": {
     "iopub.execute_input": "2024-09-06T20:14:55.363451Z",
     "iopub.status.busy": "2024-09-06T20:14:55.363167Z",
     "iopub.status.idle": "2024-09-06T20:14:55.619837Z",
     "shell.execute_reply": "2024-09-06T20:14:55.618593Z"
    },
    "papermill": {
     "duration": 0.271597,
     "end_time": "2024-09-06T20:14:55.622420",
     "exception": false,
     "start_time": "2024-09-06T20:14:55.350823",
     "status": "completed"
    },
    "tags": []
   },
   "outputs": [
    {
     "name": "stdout",
     "output_type": "stream",
     "text": [
      "<class 'pandas.core.frame.DataFrame'>\n",
      "RangeIndex: 401059 entries, 0 to 401058\n",
      "Data columns (total 38 columns):\n",
      " #   Column                       Non-Null Count   Dtype  \n",
      "---  ------                       --------------   -----  \n",
      " 0   tbp_lv_Lext                  401059 non-null  float64\n",
      " 1   tbp_lv_minorAxisMM           401059 non-null  float64\n",
      " 2   tbp_lv_Cext                  401059 non-null  float64\n",
      " 3   tbp_lv_symm_2axis            401059 non-null  float64\n",
      " 4   attribution                  401059 non-null  object \n",
      " 5   tbp_lv_eccentricity          401059 non-null  float64\n",
      " 6   tbp_lv_Aext                  401059 non-null  float64\n",
      " 7   tbp_lv_x                     401059 non-null  float64\n",
      " 8   tbp_lv_H                     401059 non-null  float64\n",
      " 9   tbp_lv_deltaLB               401059 non-null  float64\n",
      " 10  tbp_lv_deltaB                401059 non-null  float64\n",
      " 11  clin_size_long_diam_mm       401059 non-null  float64\n",
      " 12  tbp_lv_Bext                  401059 non-null  float64\n",
      " 13  tbp_lv_norm_border           401059 non-null  float64\n",
      " 14  tbp_lv_y                     401059 non-null  float64\n",
      " 15  tbp_lv_Hext                  401059 non-null  float64\n",
      " 16  tbp_lv_deltaA                401059 non-null  float64\n",
      " 17  tbp_lv_deltaL                401059 non-null  float64\n",
      " 18  tbp_lv_areaMM2               401059 non-null  float64\n",
      " 19  tbp_lv_stdLExt               401059 non-null  float64\n",
      " 20  target_effnetv1b0            401059 non-null  float64\n",
      " 21  tbp_lv_C                     401059 non-null  float64\n",
      " 22  tbp_lv_A                     401059 non-null  float64\n",
      " 23  tbp_lv_norm_color            401059 non-null  float64\n",
      " 24  tbp_lv_perimeterMM           401059 non-null  float64\n",
      " 25  tbp_lv_location              401059 non-null  object \n",
      " 26  tbp_lv_L                     401059 non-null  float64\n",
      " 27  tbp_lv_stdL                  401059 non-null  float64\n",
      " 28  tbp_tile_type                401059 non-null  object \n",
      " 29  tbp_lv_nevi_confidence       401059 non-null  float64\n",
      " 30  tbp_lv_location_simple       401059 non-null  object \n",
      " 31  tbp_lv_color_std_mean        401059 non-null  float64\n",
      " 32  tbp_lv_area_perim_ratio      401059 non-null  float64\n",
      " 33  tbp_lv_radial_color_std_max  401059 non-null  float64\n",
      " 34  tbp_lv_z                     401059 non-null  float64\n",
      " 35  tbp_lv_deltaLBnorm           401059 non-null  float64\n",
      " 36  tbp_lv_symm_2axis_angle      401059 non-null  int64  \n",
      " 37  tbp_lv_B                     401059 non-null  float64\n",
      "dtypes: float64(33), int64(1), object(4)\n",
      "memory usage: 116.3+ MB\n"
     ]
    }
   ],
   "source": [
    "df_train[feature_col].info()"
   ]
  },
  {
   "cell_type": "code",
   "execution_count": 9,
   "id": "764fe040",
   "metadata": {
    "execution": {
     "iopub.execute_input": "2024-09-06T20:14:55.647390Z",
     "iopub.status.busy": "2024-09-06T20:14:55.646612Z",
     "iopub.status.idle": "2024-09-06T20:14:56.667153Z",
     "shell.execute_reply": "2024-09-06T20:14:56.665888Z"
    },
    "papermill": {
     "duration": 1.035164,
     "end_time": "2024-09-06T20:14:56.669476",
     "exception": false,
     "start_time": "2024-09-06T20:14:55.634312",
     "status": "completed"
    },
    "tags": []
   },
   "outputs": [
    {
     "name": "stdout",
     "output_type": "stream",
     "text": [
      "\n",
      "... IMPORTS STARTING ...\n",
      "\n",
      "\t– PANDAS VERSION: 2.2.2\n",
      "\t– NUMPY VERSION: 1.26.4\n",
      "\t– POLARS VERSION: 1.1.0\n",
      "\n",
      "... IMPORTS COMPLETE ...\n",
      "\n"
     ]
    }
   ],
   "source": [
    "print(\"\\n... IMPORTS STARTING ...\\n\")\n",
    "\n",
    "import os\n",
    "import gc\n",
    "import time\n",
    "import copy\n",
    "import optuna\n",
    "\n",
    "from pathlib import Path\n",
    "\n",
    "import pandas as pd; print(f\"\\t– PANDAS VERSION: {pd.__version__}\");\n",
    "import numpy as np; print(f\"\\t– NUMPY VERSION: {np.__version__}\");\n",
    "import polars as pl; print(f\"\\t– POLARS VERSION: {pl.__version__}\");\n",
    "\n",
    "from sklearn.model_selection import GroupKFold\n",
    "from sklearn.model_selection import StratifiedGroupKFold\n",
    "from sklearn.model_selection import cross_val_score\n",
    "from sklearn.preprocessing import OneHotEncoder\n",
    "from sklearn.metrics import roc_auc_score\n",
    "from sklearn.metrics import mean_squared_error\n",
    "from sklearn.ensemble import VotingClassifier\n",
    "\n",
    "from sklearn.utils import resample\n",
    "\n",
    "from imblearn.under_sampling import RandomUnderSampler\n",
    "from imblearn.pipeline import Pipeline\n",
    "from imblearn.over_sampling import RandomOverSampler\n",
    "\n",
    "import lightgbm as lgb, catboost as cb, xgboost as xgb\n",
    "\n",
    "from optuna.samplers import TPESampler\n",
    "\n",
    "from imblearn.under_sampling import NearMiss\n",
    "from imblearn.under_sampling import ClusterCentroids\n",
    "from imblearn.under_sampling import TomekLinks\n",
    "from imblearn.under_sampling import EditedNearestNeighbours\n",
    "# from imblearn.pipeline import Pipeline as ImbPipeline\n",
    "from imblearn.under_sampling import NearMiss, TomekLinks\n",
    "from sklearn.impute import SimpleImputer\n",
    "from sklearn.feature_selection import SelectKBest, chi2, mutual_info_classif, VarianceThreshold\n",
    "from sklearn.base import BaseEstimator, TransformerMixin\n",
    "\n",
    "print(\"\\n... IMPORTS COMPLETE ...\\n\")"
   ]
  },
  {
   "cell_type": "code",
   "execution_count": 10,
   "id": "6215c768",
   "metadata": {
    "execution": {
     "iopub.execute_input": "2024-09-06T20:14:56.696241Z",
     "iopub.status.busy": "2024-09-06T20:14:56.695537Z",
     "iopub.status.idle": "2024-09-06T20:14:56.714618Z",
     "shell.execute_reply": "2024-09-06T20:14:56.713616Z"
    },
    "papermill": {
     "duration": 0.035805,
     "end_time": "2024-09-06T20:14:56.717585",
     "exception": false,
     "start_time": "2024-09-06T20:14:56.681780",
     "status": "completed"
    },
    "tags": []
   },
   "outputs": [
    {
     "name": "stdout",
     "output_type": "stream",
     "text": [
      "...160 FEATURES IN TOTAL...\n",
      "\t– num_cols: 34\n",
      "\t– new_num_cols: 42\n",
      "\t– cat_cols: 6\n",
      "\t– norm_cols: 77\n",
      "\t– special_cols: 1\n"
     ]
    }
   ],
   "source": [
    "root = Path('/kaggle/input/isic-2024-challenge')\n",
    "\n",
    "train_path = root / 'train-metadata.csv'\n",
    "test_path = root / 'test-metadata.csv'\n",
    "subm_path = root / 'sample_submission.csv'\n",
    "\n",
    "id_col = 'isic_id'\n",
    "target_col = 'target'\n",
    "group_col = 'patient_id'\n",
    "\n",
    "err = 1e-5\n",
    "sampling_ratio = 0.01\n",
    "seed = 42\n",
    "\n",
    "num_cols = [\n",
    "    'age_approx',                        # Approximate age of patient at time of imaging.\n",
    "    'clin_size_long_diam_mm',            # Maximum diameter of the lesion (mm).+\n",
    "    'tbp_lv_A',                          # A inside  lesion.+\n",
    "    'tbp_lv_Aext',                       # A outside lesion.+\n",
    "    'tbp_lv_B',                          # B inside  lesion.+\n",
    "    'tbp_lv_Bext',                       # B outside lesion.+ \n",
    "    'tbp_lv_C',                          # Chroma inside  lesion.+\n",
    "    'tbp_lv_Cext',                       # Chroma outside lesion.+\n",
    "    'tbp_lv_H',                          # Hue inside the lesion; calculated as the angle of A* and B* in LAB* color space. Typical values range from 25 (red) to 75 (brown).+\n",
    "    'tbp_lv_Hext',                       # Hue outside lesion.+\n",
    "    'tbp_lv_L',                          # L inside lesion.+\n",
    "    'tbp_lv_Lext',                       # L outside lesion.+\n",
    "    'tbp_lv_areaMM2',                    # Area of lesion (mm^2).+\n",
    "    'tbp_lv_area_perim_ratio',           # Border jaggedness, the ratio between lesions perimeter and area. Circular lesions will have low values; irregular shaped lesions will have higher values. Values range 0-10.+\n",
    "    'tbp_lv_color_std_mean',             # Color irregularity, calculated as the variance of colors within the lesion's boundary.\n",
    "    'tbp_lv_deltaA',                     # Average A contrast (inside vs. outside lesion).+\n",
    "    'tbp_lv_deltaB',                     # Average B contrast (inside vs. outside lesion).+\n",
    "    'tbp_lv_deltaL',                     # Average L contrast (inside vs. outside lesion).+\n",
    "    'tbp_lv_deltaLB',                    #\n",
    "    'tbp_lv_deltaLBnorm',                # Contrast between the lesion and its immediate surrounding skin. Low contrast lesions tend to be faintly visible such as freckles; high contrast lesions tend to be those with darker pigment. Calculated as the average delta LB of the lesion relative to its immediate background in LAB* color space. Typical values range from 5.5 to 25.+\n",
    "    'tbp_lv_eccentricity',               # Eccentricity.+\n",
    "    'tbp_lv_minorAxisMM',                # Smallest lesion diameter (mm).+\n",
    "    'tbp_lv_nevi_confidence',            # Nevus confidence score (0-100 scale) is a convolutional neural network classifier estimated probability that the lesion is a nevus. The neural network was trained on approximately 57,000 lesions that were classified and labeled by a dermatologist.+,++\n",
    "    'tbp_lv_norm_border',                # Border irregularity (0-10 scale); the normalized average of border jaggedness and asymmetry.+\n",
    "    'tbp_lv_norm_color',                 # Color variation (0-10 scale); the normalized average of color asymmetry and color irregularity.+\n",
    "    'tbp_lv_perimeterMM',                # Perimeter of lesion (mm).+\n",
    "    'tbp_lv_radial_color_std_max',       # Color asymmetry, a measure of asymmetry of the spatial distribution of color within the lesion. This score is calculated by looking at the average standard deviation in LAB* color space within concentric rings originating from the lesion center. Values range 0-10.+\n",
    "    'tbp_lv_stdL',                       # Standard deviation of L inside  lesion.+\n",
    "    'tbp_lv_stdLExt',                    # Standard deviation of L outside lesion.+\n",
    "    'tbp_lv_symm_2axis',                 # Border asymmetry; a measure of asymmetry of the lesion's contour about an axis perpendicular to the lesion's most symmetric axis. Lesions with two axes of symmetry will therefore have low scores (more symmetric), while lesions with only one or zero axes of symmetry will have higher scores (less symmetric). This score is calculated by comparing opposite halves of the lesion contour over many degrees of rotation. The angle where the halves are most similar identifies the principal axis of symmetry, while the second axis of symmetry is perpendicular to the principal axis. Border asymmetry is reported as the asymmetry value about this second axis. Values range 0-10.+\n",
    "    'tbp_lv_symm_2axis_angle',           # Lesion border asymmetry angle.+\n",
    "    'tbp_lv_x',                          # X-coordinate of the lesion on 3D TBP.+\n",
    "    'tbp_lv_y',                          # Y-coordinate of the lesion on 3D TBP.+\n",
    "    'tbp_lv_z',                          # Z-coordinate of the lesion on 3D TBP.+\n",
    "]\n",
    "\n",
    "new_num_cols = [\n",
    "    'lesion_size_ratio',                 # tbp_lv_minorAxisMM      / clin_size_long_diam_mm\n",
    "    'lesion_shape_index',                # tbp_lv_areaMM2          / tbp_lv_perimeterMM **2\n",
    "    'hue_contrast',                      # tbp_lv_H                - tbp_lv_Hext              abs\n",
    "    'luminance_contrast',                # tbp_lv_L                - tbp_lv_Lext              abs\n",
    "    'lesion_color_difference',           # tbp_lv_deltaA **2       + tbp_lv_deltaB **2 + tbp_lv_deltaL **2  sqrt  \n",
    "    'border_complexity',                 # tbp_lv_norm_border      + tbp_lv_symm_2axis\n",
    "    'color_uniformity',                  # tbp_lv_color_std_mean   / tbp_lv_radial_color_std_max\n",
    "\n",
    "    'position_distance_3d',              # tbp_lv_x **2 + tbp_lv_y **2 + tbp_lv_z **2  sqrt\n",
    "    'perimeter_to_area_ratio',           # tbp_lv_perimeterMM      / tbp_lv_areaMM2\n",
    "    'area_to_perimeter_ratio',           # tbp_lv_areaMM2          / tbp_lv_perimeterMM\n",
    "    'lesion_visibility_score',           # tbp_lv_deltaLBnorm      + tbp_lv_norm_color\n",
    "    'symmetry_border_consistency',       # tbp_lv_symm_2axis       * tbp_lv_norm_border\n",
    "    'consistency_symmetry_border',       # tbp_lv_symm_2axis       * tbp_lv_norm_border / (tbp_lv_symm_2axis + tbp_lv_norm_border)\n",
    "\n",
    "    'color_consistency',                 # tbp_lv_stdL             / tbp_lv_Lext\n",
    "    'consistency_color',                 # tbp_lv_stdL*tbp_lv_Lext / tbp_lv_stdL + tbp_lv_Lext\n",
    "    'size_age_interaction',              # clin_size_long_diam_mm  * age_approx\n",
    "    'hue_color_std_interaction',         # tbp_lv_H                * tbp_lv_color_std_mean\n",
    "    'lesion_severity_index',             # tbp_lv_norm_border      + tbp_lv_norm_color + tbp_lv_eccentricity / 3\n",
    "    'shape_complexity_index',            # border_complexity       + lesion_shape_index\n",
    "    'color_contrast_index',              # tbp_lv_deltaA + tbp_lv_deltaB + tbp_lv_deltaL + tbp_lv_deltaLBnorm\n",
    "\n",
    "    'log_lesion_area',                   # tbp_lv_areaMM2          + 1  np.log\n",
    "    'normalized_lesion_size',            # clin_size_long_diam_mm  / age_approx\n",
    "    'mean_hue_difference',               # tbp_lv_H                + tbp_lv_Hext    / 2\n",
    "    'std_dev_contrast',                  # tbp_lv_deltaA **2 + tbp_lv_deltaB **2 + tbp_lv_deltaL **2   / 3  np.sqrt\n",
    "    'color_shape_composite_index',       # tbp_lv_color_std_mean   + bp_lv_area_perim_ratio + tbp_lv_symm_2axis   / 3\n",
    "    'lesion_orientation_3d',             # tbp_lv_y                , tbp_lv_x  np.arctan2\n",
    "    'overall_color_difference',          # tbp_lv_deltaA           + tbp_lv_deltaB + tbp_lv_deltaL   / 3\n",
    "\n",
    "    'symmetry_perimeter_interaction',    # tbp_lv_symm_2axis       * tbp_lv_perimeterMM\n",
    "    'comprehensive_lesion_index',        # tbp_lv_area_perim_ratio + tbp_lv_eccentricity + bp_lv_norm_color + tbp_lv_symm_2axis   / 4\n",
    "    'color_variance_ratio',              # tbp_lv_color_std_mean   / tbp_lv_stdLExt\n",
    "    'border_color_interaction',          # tbp_lv_norm_border      * tbp_lv_norm_color\n",
    "    'border_color_interaction_2',\n",
    "    'size_color_contrast_ratio',         # clin_size_long_diam_mm  / tbp_lv_deltaLBnorm\n",
    "    'age_normalized_nevi_confidence',    # tbp_lv_nevi_confidence  / age_approx\n",
    "    'age_normalized_nevi_confidence_2',\n",
    "    'color_asymmetry_index',             # tbp_lv_symm_2axis       * tbp_lv_radial_color_std_max\n",
    "\n",
    "    'volume_approximation_3d',           # tbp_lv_areaMM2          * sqrt(tbp_lv_x**2 + tbp_lv_y**2 + tbp_lv_z**2)\n",
    "    'color_range',                       # abs(tbp_lv_L - tbp_lv_Lext) + abs(tbp_lv_A - tbp_lv_Aext) + abs(tbp_lv_B - tbp_lv_Bext)\n",
    "    'shape_color_consistency',           # tbp_lv_eccentricity     * tbp_lv_color_std_mean\n",
    "    'border_length_ratio',               # tbp_lv_perimeterMM      / pi * sqrt(tbp_lv_areaMM2 / pi)\n",
    "    'age_size_symmetry_index',           # age_approx              * clin_size_long_diam_mm * tbp_lv_symm_2axis\n",
    "    'index_age_size_symmetry',           # age_approx              * tbp_lv_areaMM2 * tbp_lv_symm_2axis\n",
    "]\n",
    "\n",
    "cat_cols = ['sex', 'anatom_site_general', 'tbp_tile_type', 'tbp_lv_location', 'tbp_lv_location_simple', 'attribution']\n",
    "norm_cols = [f'{col}_patient_norm' for col in num_cols + new_num_cols]\n",
    "special_cols = ['count_per_patient']\n",
    "image_cols = [\"target_effnetv1b0\"] # ,\"target_eva02\"] # ,\"target_edgenext\"]\n",
    "\n",
    "norm_cols += image_cols\n",
    "feature_cols = num_cols + new_num_cols + cat_cols + norm_cols + special_cols\n",
    "\n",
    "print(f\"...{len(feature_cols)} FEATURES IN TOTAL...\")\n",
    "print(f\"\\t– num_cols: {len(num_cols)}\");\n",
    "print(f\"\\t– new_num_cols: {len(new_num_cols)}\");\n",
    "print(f\"\\t– cat_cols: {len(cat_cols)}\");\n",
    "print(f\"\\t– norm_cols: {len(norm_cols)}\");\n",
    "print(f\"\\t– special_cols: {len(special_cols)}\");"
   ]
  },
  {
   "cell_type": "code",
   "execution_count": 11,
   "id": "82fe79dd",
   "metadata": {
    "execution": {
     "iopub.execute_input": "2024-09-06T20:14:56.744865Z",
     "iopub.status.busy": "2024-09-06T20:14:56.744465Z",
     "iopub.status.idle": "2024-09-06T20:14:56.777633Z",
     "shell.execute_reply": "2024-09-06T20:14:56.776712Z"
    },
    "papermill": {
     "duration": 0.049639,
     "end_time": "2024-09-06T20:14:56.779896",
     "exception": false,
     "start_time": "2024-09-06T20:14:56.730257",
     "status": "completed"
    },
    "tags": []
   },
   "outputs": [],
   "source": [
    "def read_data(path):\n",
    "    return (\n",
    "        pl.read_csv(path)\n",
    "        .with_columns(\n",
    "            pl.col('age_approx').cast(pl.String).replace('NA', np.nan).cast(pl.Float64),\n",
    "        )\n",
    "        .with_columns(\n",
    "            pl.col(pl.Float64).fill_nan(pl.col(pl.Float64).median()), # You may want to impute test data with train\n",
    "        )\n",
    "        .with_columns(\n",
    "            lesion_size_ratio              = pl.col('tbp_lv_minorAxisMM') / pl.col('clin_size_long_diam_mm'),\n",
    "            lesion_shape_index             = pl.col('tbp_lv_areaMM2') / (pl.col('tbp_lv_perimeterMM') ** 2),\n",
    "            hue_contrast                   = (pl.col('tbp_lv_H') - pl.col('tbp_lv_Hext')).abs(),\n",
    "            luminance_contrast             = (pl.col('tbp_lv_L') - pl.col('tbp_lv_Lext')).abs(),\n",
    "            lesion_color_difference        = (pl.col('tbp_lv_deltaA') ** 2 + pl.col('tbp_lv_deltaB') ** 2 + pl.col('tbp_lv_deltaL') ** 2).sqrt(),\n",
    "            border_complexity              = pl.col('tbp_lv_norm_border') + pl.col('tbp_lv_symm_2axis'),\n",
    "            color_uniformity               = pl.col('tbp_lv_color_std_mean') / (pl.col('tbp_lv_radial_color_std_max') + err),\n",
    "        )\n",
    "        .with_columns(\n",
    "            position_distance_3d           = (pl.col('tbp_lv_x') ** 2 + pl.col('tbp_lv_y') ** 2 + pl.col('tbp_lv_z') ** 2).sqrt(),\n",
    "            perimeter_to_area_ratio        = pl.col('tbp_lv_perimeterMM') / pl.col('tbp_lv_areaMM2'),\n",
    "            area_to_perimeter_ratio        = pl.col('tbp_lv_areaMM2') / pl.col('tbp_lv_perimeterMM'),\n",
    "            lesion_visibility_score        = pl.col('tbp_lv_deltaLBnorm') + pl.col('tbp_lv_norm_color'),\n",
    "            combined_anatomical_site       = pl.col('anatom_site_general') + '_' + pl.col('tbp_lv_location'),\n",
    "            symmetry_border_consistency    = pl.col('tbp_lv_symm_2axis') * pl.col('tbp_lv_norm_border'),\n",
    "            consistency_symmetry_border    = pl.col('tbp_lv_symm_2axis') * pl.col('tbp_lv_norm_border') / (pl.col('tbp_lv_symm_2axis') + pl.col('tbp_lv_norm_border')),\n",
    "        )\n",
    "        .with_columns(\n",
    "            color_consistency              = pl.col('tbp_lv_stdL') / pl.col('tbp_lv_Lext'),\n",
    "            consistency_color              = pl.col('tbp_lv_stdL') * pl.col('tbp_lv_Lext') / (pl.col('tbp_lv_stdL') + pl.col('tbp_lv_Lext')),\n",
    "            size_age_interaction           = pl.col('clin_size_long_diam_mm') * pl.col('age_approx'),\n",
    "            hue_color_std_interaction      = pl.col('tbp_lv_H') * pl.col('tbp_lv_color_std_mean'),\n",
    "            lesion_severity_index          = (pl.col('tbp_lv_norm_border') + pl.col('tbp_lv_norm_color') + pl.col('tbp_lv_eccentricity')) / 3,\n",
    "            shape_complexity_index         = pl.col('border_complexity') + pl.col('lesion_shape_index'),\n",
    "            color_contrast_index           = pl.col('tbp_lv_deltaA') + pl.col('tbp_lv_deltaB') + pl.col('tbp_lv_deltaL') + pl.col('tbp_lv_deltaLBnorm'),\n",
    "        )\n",
    "        .with_columns(\n",
    "            log_lesion_area                = (pl.col('tbp_lv_areaMM2') + 1).log(),\n",
    "            normalized_lesion_size         = pl.col('clin_size_long_diam_mm') / pl.col('age_approx'),\n",
    "            mean_hue_difference            = (pl.col('tbp_lv_H') + pl.col('tbp_lv_Hext')) / 2,\n",
    "            std_dev_contrast               = ((pl.col('tbp_lv_deltaA') ** 2 + pl.col('tbp_lv_deltaB') ** 2 + pl.col('tbp_lv_deltaL') ** 2) / 3).sqrt(),\n",
    "            color_shape_composite_index    = (pl.col('tbp_lv_color_std_mean') + pl.col('tbp_lv_area_perim_ratio') + pl.col('tbp_lv_symm_2axis')) / 3,\n",
    "            lesion_orientation_3d          = pl.arctan2(pl.col('tbp_lv_y'), pl.col('tbp_lv_x')),\n",
    "            overall_color_difference       = (pl.col('tbp_lv_deltaA') + pl.col('tbp_lv_deltaB') + pl.col('tbp_lv_deltaL')) / 3,\n",
    "        )\n",
    "        .with_columns(\n",
    "            symmetry_perimeter_interaction = pl.col('tbp_lv_symm_2axis') * pl.col('tbp_lv_perimeterMM'),\n",
    "            comprehensive_lesion_index     = (pl.col('tbp_lv_area_perim_ratio') + pl.col('tbp_lv_eccentricity') + pl.col('tbp_lv_norm_color') + pl.col('tbp_lv_symm_2axis')) / 4,\n",
    "            color_variance_ratio           = pl.col('tbp_lv_color_std_mean') / pl.col('tbp_lv_stdLExt'),\n",
    "            border_color_interaction       = pl.col('tbp_lv_norm_border') * pl.col('tbp_lv_norm_color'),\n",
    "            border_color_interaction_2     = pl.col('tbp_lv_norm_border') * pl.col('tbp_lv_norm_color') / (pl.col('tbp_lv_norm_border') + pl.col('tbp_lv_norm_color')),\n",
    "            size_color_contrast_ratio      = pl.col('clin_size_long_diam_mm') / pl.col('tbp_lv_deltaLBnorm'),\n",
    "            age_normalized_nevi_confidence = pl.col('tbp_lv_nevi_confidence') / pl.col('age_approx'),\n",
    "            age_normalized_nevi_confidence_2 = (pl.col('clin_size_long_diam_mm')**2 + pl.col('age_approx')**2).sqrt(),\n",
    "            color_asymmetry_index          = pl.col('tbp_lv_radial_color_std_max') * pl.col('tbp_lv_symm_2axis'),\n",
    "        )\n",
    "        .with_columns(\n",
    "            volume_approximation_3d        = pl.col('tbp_lv_areaMM2') * (pl.col('tbp_lv_x')**2 + pl.col('tbp_lv_y')**2 + pl.col('tbp_lv_z')**2).sqrt(),\n",
    "            color_range                    = (pl.col('tbp_lv_L') - pl.col('tbp_lv_Lext')).abs() + (pl.col('tbp_lv_A') - pl.col('tbp_lv_Aext')).abs() + (pl.col('tbp_lv_B') - pl.col('tbp_lv_Bext')).abs(),\n",
    "            shape_color_consistency        = pl.col('tbp_lv_eccentricity') * pl.col('tbp_lv_color_std_mean'),\n",
    "            border_length_ratio            = pl.col('tbp_lv_perimeterMM') / (2 * np.pi * (pl.col('tbp_lv_areaMM2') / np.pi).sqrt()),\n",
    "            age_size_symmetry_index        = pl.col('age_approx') * pl.col('clin_size_long_diam_mm') * pl.col('tbp_lv_symm_2axis'),\n",
    "            index_age_size_symmetry        = pl.col('age_approx') * pl.col('tbp_lv_areaMM2') * pl.col('tbp_lv_symm_2axis'),\n",
    "        )\n",
    "        .with_columns(\n",
    "            ((pl.col(col) - pl.col(col).mean().over('patient_id')) / (pl.col(col).std().over('patient_id') + err)).alias(f'{col}_patient_norm') for col in (num_cols + new_num_cols)\n",
    "        )\n",
    "        .with_columns(\n",
    "            count_per_patient = pl.col('isic_id').count().over('patient_id'),\n",
    "        )\n",
    "        .with_columns(\n",
    "            pl.col(cat_cols).cast(pl.Categorical),\n",
    "        )\n",
    "        .to_pandas()\n",
    "        .set_index(id_col)\n",
    "    )"
   ]
  },
  {
   "cell_type": "code",
   "execution_count": 12,
   "id": "a3ba8c8d",
   "metadata": {
    "execution": {
     "iopub.execute_input": "2024-09-06T20:14:56.806872Z",
     "iopub.status.busy": "2024-09-06T20:14:56.806489Z",
     "iopub.status.idle": "2024-09-06T20:14:56.814274Z",
     "shell.execute_reply": "2024-09-06T20:14:56.813198Z"
    },
    "papermill": {
     "duration": 0.023765,
     "end_time": "2024-09-06T20:14:56.816666",
     "exception": false,
     "start_time": "2024-09-06T20:14:56.792901",
     "status": "completed"
    },
    "tags": []
   },
   "outputs": [
    {
     "data": {
      "text/plain": [
       "RangeIndex(start=0, stop=401059, step=1)"
      ]
     },
     "execution_count": 12,
     "metadata": {},
     "output_type": "execute_result"
    }
   ],
   "source": [
    "df_train.index"
   ]
  },
  {
   "cell_type": "code",
   "execution_count": 13,
   "id": "485d052f",
   "metadata": {
    "execution": {
     "iopub.execute_input": "2024-09-06T20:14:56.844296Z",
     "iopub.status.busy": "2024-09-06T20:14:56.843676Z",
     "iopub.status.idle": "2024-09-06T20:15:06.954669Z",
     "shell.execute_reply": "2024-09-06T20:15:06.953709Z"
    },
    "papermill": {
     "duration": 10.1277,
     "end_time": "2024-09-06T20:15:06.957288",
     "exception": false,
     "start_time": "2024-09-06T20:14:56.829588",
     "status": "completed"
    },
    "tags": []
   },
   "outputs": [],
   "source": [
    "# print(\"\\n... READS DATA ...\\n\")\n",
    "\n",
    "df_train = read_data(train_path)\n",
    "df_test = read_data(test_path)\n",
    "df_eff = pd.read_csv(\"/kaggle/input/isic-inference-effnetv1b0-for-training-data/train_effnetv1b0.csv\")\n",
    "# df_train = df_train.reset_index(drop=True)\n",
    "# df_eff = df_eff.reset_index(drop=True)\n",
    "df_train[\"target_effnetv1b0\"] = df_eff[\"target_effnetv1b0\"]\n",
    "df_eff = pd.read_csv(\"submission_effnetv1b0.csv\")\n",
    "# df_test = df_test.reset_index(drop=True)\n",
    "# df_eff = df_eff.reset_index(drop=True)\n",
    "df_test[\"target_effnetv1b0\"] = df_eff[\"target\"]\n",
    "# print(\"\\n... READS DATA COMPLETE ...\\n\")"
   ]
  },
  {
   "cell_type": "code",
   "execution_count": 14,
   "id": "ce9ba70d",
   "metadata": {
    "execution": {
     "iopub.execute_input": "2024-09-06T20:15:06.984879Z",
     "iopub.status.busy": "2024-09-06T20:15:06.984121Z",
     "iopub.status.idle": "2024-09-06T20:15:06.991448Z",
     "shell.execute_reply": "2024-09-06T20:15:06.990476Z"
    },
    "papermill": {
     "duration": 0.023566,
     "end_time": "2024-09-06T20:15:06.993799",
     "exception": false,
     "start_time": "2024-09-06T20:15:06.970233",
     "status": "completed"
    },
    "tags": []
   },
   "outputs": [
    {
     "data": {
      "text/plain": [
       "['tbp_lv_Lext',\n",
       " 'tbp_lv_minorAxisMM',\n",
       " 'tbp_lv_Cext',\n",
       " 'tbp_lv_symm_2axis',\n",
       " 'attribution',\n",
       " 'tbp_lv_eccentricity',\n",
       " 'tbp_lv_Aext',\n",
       " 'tbp_lv_x',\n",
       " 'tbp_lv_H',\n",
       " 'tbp_lv_deltaLB',\n",
       " 'tbp_lv_deltaB',\n",
       " 'clin_size_long_diam_mm',\n",
       " 'tbp_lv_Bext',\n",
       " 'tbp_lv_norm_border',\n",
       " 'tbp_lv_y',\n",
       " 'tbp_lv_Hext',\n",
       " 'tbp_lv_deltaA',\n",
       " 'tbp_lv_deltaL',\n",
       " 'tbp_lv_areaMM2',\n",
       " 'tbp_lv_stdLExt',\n",
       " 'target_effnetv1b0',\n",
       " 'tbp_lv_C',\n",
       " 'tbp_lv_A',\n",
       " 'tbp_lv_norm_color',\n",
       " 'tbp_lv_perimeterMM',\n",
       " 'tbp_lv_location',\n",
       " 'tbp_lv_L',\n",
       " 'tbp_lv_stdL',\n",
       " 'tbp_tile_type',\n",
       " 'tbp_lv_nevi_confidence',\n",
       " 'tbp_lv_location_simple',\n",
       " 'tbp_lv_color_std_mean',\n",
       " 'tbp_lv_area_perim_ratio',\n",
       " 'tbp_lv_radial_color_std_max',\n",
       " 'tbp_lv_z',\n",
       " 'tbp_lv_deltaLBnorm',\n",
       " 'tbp_lv_symm_2axis_angle',\n",
       " 'tbp_lv_B']"
      ]
     },
     "execution_count": 14,
     "metadata": {},
     "output_type": "execute_result"
    }
   ],
   "source": [
    "feature_col"
   ]
  },
  {
   "cell_type": "code",
   "execution_count": 15,
   "id": "bcb717d7",
   "metadata": {
    "execution": {
     "iopub.execute_input": "2024-09-06T20:15:07.022479Z",
     "iopub.status.busy": "2024-09-06T20:15:07.022092Z",
     "iopub.status.idle": "2024-09-06T20:15:07.027274Z",
     "shell.execute_reply": "2024-09-06T20:15:07.026200Z"
    },
    "papermill": {
     "duration": 0.02238,
     "end_time": "2024-09-06T20:15:07.029684",
     "exception": false,
     "start_time": "2024-09-06T20:15:07.007304",
     "status": "completed"
    },
    "tags": []
   },
   "outputs": [],
   "source": [
    "feature_col = list(set(feature_col)|set(feature_cols))"
   ]
  },
  {
   "cell_type": "code",
   "execution_count": 16,
   "id": "81b0e0de",
   "metadata": {
    "execution": {
     "iopub.execute_input": "2024-09-06T20:15:07.058564Z",
     "iopub.status.busy": "2024-09-06T20:15:07.057901Z",
     "iopub.status.idle": "2024-09-06T20:15:07.067497Z",
     "shell.execute_reply": "2024-09-06T20:15:07.066498Z"
    },
    "papermill": {
     "duration": 0.027042,
     "end_time": "2024-09-06T20:15:07.070159",
     "exception": false,
     "start_time": "2024-09-06T20:15:07.043117",
     "status": "completed"
    },
    "tags": []
   },
   "outputs": [
    {
     "data": {
      "text/plain": [
       "['tbp_lv_Lext',\n",
       " 'tbp_lv_Cext',\n",
       " 'tbp_lv_symm_2axis',\n",
       " 'sex',\n",
       " 'count_per_patient',\n",
       " 'tbp_lv_eccentricity',\n",
       " 'position_distance_3d_patient_norm',\n",
       " 'perimeter_to_area_ratio_patient_norm',\n",
       " 'tbp_lv_H',\n",
       " 'border_color_interaction_2',\n",
       " 'color_contrast_index',\n",
       " 'tbp_lv_deltaB',\n",
       " 'clin_size_long_diam_mm',\n",
       " 'lesion_size_ratio_patient_norm',\n",
       " 'tbp_lv_deltaA_patient_norm',\n",
       " 'tbp_lv_norm_border',\n",
       " 'border_complexity',\n",
       " 'tbp_lv_Aext_patient_norm',\n",
       " 'tbp_lv_B_patient_norm',\n",
       " 'tbp_lv_deltaL',\n",
       " 'age_normalized_nevi_confidence_patient_norm',\n",
       " 'tbp_lv_stdLExt',\n",
       " 'hue_contrast',\n",
       " 'tbp_lv_A_patient_norm',\n",
       " 'tbp_lv_norm_color',\n",
       " 'tbp_tile_type',\n",
       " 'volume_approximation_3d',\n",
       " 'tbp_lv_radial_color_std_max_patient_norm',\n",
       " 'tbp_lv_nevi_confidence',\n",
       " 'lesion_visibility_score',\n",
       " 'tbp_lv_location_simple',\n",
       " 'tbp_lv_nevi_confidence_patient_norm',\n",
       " 'tbp_lv_color_std_mean',\n",
       " 'tbp_lv_deltaLBnorm',\n",
       " 'tbp_lv_norm_color_patient_norm',\n",
       " 'tbp_lv_Aext',\n",
       " 'lesion_severity_index_patient_norm',\n",
       " 'lesion_orientation_3d',\n",
       " 'log_lesion_area_patient_norm',\n",
       " 'age_normalized_nevi_confidence_2_patient_norm',\n",
       " 'normalized_lesion_size_patient_norm',\n",
       " 'tbp_lv_deltaLB',\n",
       " 'symmetry_perimeter_interaction',\n",
       " 'age_normalized_nevi_confidence_2',\n",
       " 'index_age_size_symmetry_patient_norm',\n",
       " 'color_range_patient_norm',\n",
       " 'tbp_lv_deltaA',\n",
       " 'size_color_contrast_ratio',\n",
       " 'hue_contrast_patient_norm',\n",
       " 'anatom_site_general',\n",
       " 'tbp_lv_C_patient_norm',\n",
       " 'lesion_shape_index_patient_norm',\n",
       " 'tbp_lv_z_patient_norm',\n",
       " 'consistency_color',\n",
       " 'overall_color_difference',\n",
       " 'tbp_lv_C',\n",
       " 'hue_color_std_interaction',\n",
       " 'age_approx_patient_norm',\n",
       " 'std_dev_contrast_patient_norm',\n",
       " 'consistency_symmetry_border_patient_norm',\n",
       " 'color_shape_composite_index_patient_norm',\n",
       " 'tbp_lv_location',\n",
       " 'border_length_ratio',\n",
       " 'tbp_lv_perimeterMM_patient_norm',\n",
       " 'tbp_lv_stdL',\n",
       " 'hue_color_std_interaction_patient_norm',\n",
       " 'tbp_lv_area_perim_ratio_patient_norm',\n",
       " 'tbp_lv_x_patient_norm',\n",
       " 'border_length_ratio_patient_norm',\n",
       " 'tbp_lv_H_patient_norm',\n",
       " 'comprehensive_lesion_index',\n",
       " 'age_normalized_nevi_confidence',\n",
       " 'color_uniformity',\n",
       " 'tbp_lv_Lext_patient_norm',\n",
       " 'tbp_lv_radial_color_std_max',\n",
       " 'consistency_color_patient_norm',\n",
       " 'color_uniformity_patient_norm',\n",
       " 'age_approx',\n",
       " 'log_lesion_area',\n",
       " 'tbp_lv_minorAxisMM',\n",
       " 'comprehensive_lesion_index_patient_norm',\n",
       " 'tbp_lv_symm_2axis_angle_patient_norm',\n",
       " 'attribution',\n",
       " 'color_variance_ratio',\n",
       " 'position_distance_3d',\n",
       " 'size_age_interaction_patient_norm',\n",
       " 'std_dev_contrast',\n",
       " 'shape_complexity_index_patient_norm',\n",
       " 'tbp_lv_L_patient_norm',\n",
       " 'tbp_lv_deltaL_patient_norm',\n",
       " 'shape_complexity_index',\n",
       " 'tbp_lv_deltaLB_patient_norm',\n",
       " 'tbp_lv_color_std_mean_patient_norm',\n",
       " 'tbp_lv_areaMM2',\n",
       " 'size_color_contrast_ratio_patient_norm',\n",
       " 'clin_size_long_diam_mm_patient_norm',\n",
       " 'border_color_interaction_2_patient_norm',\n",
       " 'lesion_shape_index',\n",
       " 'consistency_symmetry_border',\n",
       " 'color_variance_ratio_patient_norm',\n",
       " 'symmetry_perimeter_interaction_patient_norm',\n",
       " 'tbp_lv_L',\n",
       " 'volume_approximation_3d_patient_norm',\n",
       " 'shape_color_consistency_patient_norm',\n",
       " 'tbp_lv_eccentricity_patient_norm',\n",
       " 'tbp_lv_y_patient_norm',\n",
       " 'color_range',\n",
       " 'color_asymmetry_index_patient_norm',\n",
       " 'lesion_color_difference_patient_norm',\n",
       " 'lesion_severity_index',\n",
       " 'tbp_lv_norm_border_patient_norm',\n",
       " 'symmetry_border_consistency_patient_norm',\n",
       " 'tbp_lv_z',\n",
       " 'tbp_lv_symm_2axis_angle',\n",
       " 'tbp_lv_B',\n",
       " 'age_size_symmetry_index',\n",
       " 'border_complexity_patient_norm',\n",
       " 'size_age_interaction',\n",
       " 'tbp_lv_Cext_patient_norm',\n",
       " 'lesion_size_ratio',\n",
       " 'mean_hue_difference_patient_norm',\n",
       " 'tbp_lv_deltaLBnorm_patient_norm',\n",
       " 'index_age_size_symmetry',\n",
       " 'overall_color_difference_patient_norm',\n",
       " 'tbp_lv_x',\n",
       " 'shape_color_consistency',\n",
       " 'color_contrast_index_patient_norm',\n",
       " 'tbp_lv_Bext',\n",
       " 'tbp_lv_y',\n",
       " 'color_asymmetry_index',\n",
       " 'tbp_lv_Bext_patient_norm',\n",
       " 'tbp_lv_minorAxisMM_patient_norm',\n",
       " 'tbp_lv_Hext',\n",
       " 'target_effnetv1b0',\n",
       " 'tbp_lv_stdLExt_patient_norm',\n",
       " 'tbp_lv_stdL_patient_norm',\n",
       " 'tbp_lv_areaMM2_patient_norm',\n",
       " 'luminance_contrast',\n",
       " 'tbp_lv_A',\n",
       " 'tbp_lv_perimeterMM',\n",
       " 'color_shape_composite_index',\n",
       " 'area_to_perimeter_ratio_patient_norm',\n",
       " 'mean_hue_difference',\n",
       " 'tbp_lv_Hext_patient_norm',\n",
       " 'color_consistency_patient_norm',\n",
       " 'age_size_symmetry_index_patient_norm',\n",
       " 'symmetry_border_consistency',\n",
       " 'color_consistency',\n",
       " 'lesion_orientation_3d_patient_norm',\n",
       " 'border_color_interaction',\n",
       " 'lesion_color_difference',\n",
       " 'normalized_lesion_size',\n",
       " 'tbp_lv_area_perim_ratio',\n",
       " 'perimeter_to_area_ratio',\n",
       " 'border_color_interaction_patient_norm',\n",
       " 'lesion_visibility_score_patient_norm',\n",
       " 'area_to_perimeter_ratio',\n",
       " 'tbp_lv_symm_2axis_patient_norm',\n",
       " 'tbp_lv_deltaB_patient_norm',\n",
       " 'luminance_contrast_patient_norm']"
      ]
     },
     "execution_count": 16,
     "metadata": {},
     "output_type": "execute_result"
    }
   ],
   "source": [
    "feature_col"
   ]
  },
  {
   "cell_type": "code",
   "execution_count": 17,
   "id": "92729f13",
   "metadata": {
    "execution": {
     "iopub.execute_input": "2024-09-06T20:15:07.099568Z",
     "iopub.status.busy": "2024-09-06T20:15:07.098679Z",
     "iopub.status.idle": "2024-09-06T20:15:07.136820Z",
     "shell.execute_reply": "2024-09-06T20:15:07.135618Z"
    },
    "papermill": {
     "duration": 0.055149,
     "end_time": "2024-09-06T20:15:07.139132",
     "exception": false,
     "start_time": "2024-09-06T20:15:07.083983",
     "status": "completed"
    },
    "tags": []
   },
   "outputs": [
    {
     "data": {
      "text/html": [
       "<div>\n",
       "<style scoped>\n",
       "    .dataframe tbody tr th:only-of-type {\n",
       "        vertical-align: middle;\n",
       "    }\n",
       "\n",
       "    .dataframe tbody tr th {\n",
       "        vertical-align: top;\n",
       "    }\n",
       "\n",
       "    .dataframe thead th {\n",
       "        text-align: right;\n",
       "    }\n",
       "</style>\n",
       "<table border=\"1\" class=\"dataframe\">\n",
       "  <thead>\n",
       "    <tr style=\"text-align: right;\">\n",
       "      <th></th>\n",
       "      <th>target</th>\n",
       "      <th>patient_id</th>\n",
       "      <th>age_approx</th>\n",
       "      <th>sex</th>\n",
       "      <th>anatom_site_general</th>\n",
       "      <th>clin_size_long_diam_mm</th>\n",
       "      <th>image_type</th>\n",
       "      <th>tbp_tile_type</th>\n",
       "      <th>tbp_lv_A</th>\n",
       "      <th>tbp_lv_Aext</th>\n",
       "      <th>...</th>\n",
       "      <th>age_normalized_nevi_confidence_2_patient_norm</th>\n",
       "      <th>color_asymmetry_index_patient_norm</th>\n",
       "      <th>volume_approximation_3d_patient_norm</th>\n",
       "      <th>color_range_patient_norm</th>\n",
       "      <th>shape_color_consistency_patient_norm</th>\n",
       "      <th>border_length_ratio_patient_norm</th>\n",
       "      <th>age_size_symmetry_index_patient_norm</th>\n",
       "      <th>index_age_size_symmetry_patient_norm</th>\n",
       "      <th>count_per_patient</th>\n",
       "      <th>target_effnetv1b0</th>\n",
       "    </tr>\n",
       "    <tr>\n",
       "      <th>isic_id</th>\n",
       "      <th></th>\n",
       "      <th></th>\n",
       "      <th></th>\n",
       "      <th></th>\n",
       "      <th></th>\n",
       "      <th></th>\n",
       "      <th></th>\n",
       "      <th></th>\n",
       "      <th></th>\n",
       "      <th></th>\n",
       "      <th></th>\n",
       "      <th></th>\n",
       "      <th></th>\n",
       "      <th></th>\n",
       "      <th></th>\n",
       "      <th></th>\n",
       "      <th></th>\n",
       "      <th></th>\n",
       "      <th></th>\n",
       "      <th></th>\n",
       "      <th></th>\n",
       "    </tr>\n",
       "  </thead>\n",
       "  <tbody>\n",
       "    <tr>\n",
       "      <th>ISIC_0015670</th>\n",
       "      <td>0</td>\n",
       "      <td>IP_1235828</td>\n",
       "      <td>60.0</td>\n",
       "      <td>male</td>\n",
       "      <td>lower extremity</td>\n",
       "      <td>3.04</td>\n",
       "      <td>TBP tile: close-up</td>\n",
       "      <td>3D: white</td>\n",
       "      <td>20.244422</td>\n",
       "      <td>16.261975</td>\n",
       "      <td>...</td>\n",
       "      <td>-0.437904</td>\n",
       "      <td>-1.262331</td>\n",
       "      <td>-0.828363</td>\n",
       "      <td>0.098984</td>\n",
       "      <td>-1.367874</td>\n",
       "      <td>1.734952</td>\n",
       "      <td>1.140137</td>\n",
       "      <td>-0.148400</td>\n",
       "      <td>510</td>\n",
       "      <td>NaN</td>\n",
       "    </tr>\n",
       "    <tr>\n",
       "      <th>ISIC_0015845</th>\n",
       "      <td>0</td>\n",
       "      <td>IP_8170065</td>\n",
       "      <td>60.0</td>\n",
       "      <td>male</td>\n",
       "      <td>head/neck</td>\n",
       "      <td>1.10</td>\n",
       "      <td>TBP tile: close-up</td>\n",
       "      <td>3D: white</td>\n",
       "      <td>31.712570</td>\n",
       "      <td>25.364740</td>\n",
       "      <td>...</td>\n",
       "      <td>-1.073923</td>\n",
       "      <td>-1.287635</td>\n",
       "      <td>-0.779536</td>\n",
       "      <td>-0.365127</td>\n",
       "      <td>-1.439853</td>\n",
       "      <td>-1.681373</td>\n",
       "      <td>-1.357670</td>\n",
       "      <td>-1.044905</td>\n",
       "      <td>113</td>\n",
       "      <td>NaN</td>\n",
       "    </tr>\n",
       "    <tr>\n",
       "      <th>ISIC_0015864</th>\n",
       "      <td>0</td>\n",
       "      <td>IP_6724798</td>\n",
       "      <td>60.0</td>\n",
       "      <td>male</td>\n",
       "      <td>posterior torso</td>\n",
       "      <td>3.40</td>\n",
       "      <td>TBP tile: close-up</td>\n",
       "      <td>3D: XP</td>\n",
       "      <td>22.575830</td>\n",
       "      <td>17.128170</td>\n",
       "      <td>...</td>\n",
       "      <td>-0.208326</td>\n",
       "      <td>-1.091359</td>\n",
       "      <td>-0.301850</td>\n",
       "      <td>0.750053</td>\n",
       "      <td>-1.282035</td>\n",
       "      <td>0.609536</td>\n",
       "      <td>-0.158644</td>\n",
       "      <td>-0.479373</td>\n",
       "      <td>1859</td>\n",
       "      <td>NaN</td>\n",
       "    </tr>\n",
       "    <tr>\n",
       "      <th>ISIC_0015902</th>\n",
       "      <td>0</td>\n",
       "      <td>IP_4111386</td>\n",
       "      <td>65.0</td>\n",
       "      <td>male</td>\n",
       "      <td>anterior torso</td>\n",
       "      <td>3.22</td>\n",
       "      <td>TBP tile: close-up</td>\n",
       "      <td>3D: XP</td>\n",
       "      <td>14.242329</td>\n",
       "      <td>12.164757</td>\n",
       "      <td>...</td>\n",
       "      <td>-0.306571</td>\n",
       "      <td>-0.572848</td>\n",
       "      <td>0.320297</td>\n",
       "      <td>-1.398198</td>\n",
       "      <td>-0.781199</td>\n",
       "      <td>-0.873282</td>\n",
       "      <td>-0.675929</td>\n",
       "      <td>-0.379228</td>\n",
       "      <td>541</td>\n",
       "      <td>NaN</td>\n",
       "    </tr>\n",
       "    <tr>\n",
       "      <th>ISIC_0024200</th>\n",
       "      <td>0</td>\n",
       "      <td>IP_8313778</td>\n",
       "      <td>55.0</td>\n",
       "      <td>male</td>\n",
       "      <td>anterior torso</td>\n",
       "      <td>2.73</td>\n",
       "      <td>TBP tile: close-up</td>\n",
       "      <td>3D: white</td>\n",
       "      <td>24.725520</td>\n",
       "      <td>20.057470</td>\n",
       "      <td>...</td>\n",
       "      <td>-0.214058</td>\n",
       "      <td>-1.632357</td>\n",
       "      <td>-0.596959</td>\n",
       "      <td>-0.825820</td>\n",
       "      <td>-1.986081</td>\n",
       "      <td>0.860393</td>\n",
       "      <td>-0.168294</td>\n",
       "      <td>-0.584029</td>\n",
       "      <td>440</td>\n",
       "      <td>NaN</td>\n",
       "    </tr>\n",
       "  </tbody>\n",
       "</table>\n",
       "<p>5 rows × 175 columns</p>\n",
       "</div>"
      ],
      "text/plain": [
       "              target  patient_id  age_approx   sex anatom_site_general  \\\n",
       "isic_id                                                                  \n",
       "ISIC_0015670       0  IP_1235828        60.0  male     lower extremity   \n",
       "ISIC_0015845       0  IP_8170065        60.0  male           head/neck   \n",
       "ISIC_0015864       0  IP_6724798        60.0  male     posterior torso   \n",
       "ISIC_0015902       0  IP_4111386        65.0  male      anterior torso   \n",
       "ISIC_0024200       0  IP_8313778        55.0  male      anterior torso   \n",
       "\n",
       "              clin_size_long_diam_mm          image_type tbp_tile_type  \\\n",
       "isic_id                                                                  \n",
       "ISIC_0015670                    3.04  TBP tile: close-up     3D: white   \n",
       "ISIC_0015845                    1.10  TBP tile: close-up     3D: white   \n",
       "ISIC_0015864                    3.40  TBP tile: close-up        3D: XP   \n",
       "ISIC_0015902                    3.22  TBP tile: close-up        3D: XP   \n",
       "ISIC_0024200                    2.73  TBP tile: close-up     3D: white   \n",
       "\n",
       "               tbp_lv_A  tbp_lv_Aext  ...  \\\n",
       "isic_id                               ...   \n",
       "ISIC_0015670  20.244422    16.261975  ...   \n",
       "ISIC_0015845  31.712570    25.364740  ...   \n",
       "ISIC_0015864  22.575830    17.128170  ...   \n",
       "ISIC_0015902  14.242329    12.164757  ...   \n",
       "ISIC_0024200  24.725520    20.057470  ...   \n",
       "\n",
       "              age_normalized_nevi_confidence_2_patient_norm  \\\n",
       "isic_id                                                       \n",
       "ISIC_0015670                                      -0.437904   \n",
       "ISIC_0015845                                      -1.073923   \n",
       "ISIC_0015864                                      -0.208326   \n",
       "ISIC_0015902                                      -0.306571   \n",
       "ISIC_0024200                                      -0.214058   \n",
       "\n",
       "              color_asymmetry_index_patient_norm  \\\n",
       "isic_id                                            \n",
       "ISIC_0015670                           -1.262331   \n",
       "ISIC_0015845                           -1.287635   \n",
       "ISIC_0015864                           -1.091359   \n",
       "ISIC_0015902                           -0.572848   \n",
       "ISIC_0024200                           -1.632357   \n",
       "\n",
       "              volume_approximation_3d_patient_norm  color_range_patient_norm  \\\n",
       "isic_id                                                                        \n",
       "ISIC_0015670                             -0.828363                  0.098984   \n",
       "ISIC_0015845                             -0.779536                 -0.365127   \n",
       "ISIC_0015864                             -0.301850                  0.750053   \n",
       "ISIC_0015902                              0.320297                 -1.398198   \n",
       "ISIC_0024200                             -0.596959                 -0.825820   \n",
       "\n",
       "              shape_color_consistency_patient_norm  \\\n",
       "isic_id                                              \n",
       "ISIC_0015670                             -1.367874   \n",
       "ISIC_0015845                             -1.439853   \n",
       "ISIC_0015864                             -1.282035   \n",
       "ISIC_0015902                             -0.781199   \n",
       "ISIC_0024200                             -1.986081   \n",
       "\n",
       "              border_length_ratio_patient_norm  \\\n",
       "isic_id                                          \n",
       "ISIC_0015670                          1.734952   \n",
       "ISIC_0015845                         -1.681373   \n",
       "ISIC_0015864                          0.609536   \n",
       "ISIC_0015902                         -0.873282   \n",
       "ISIC_0024200                          0.860393   \n",
       "\n",
       "              age_size_symmetry_index_patient_norm  \\\n",
       "isic_id                                              \n",
       "ISIC_0015670                              1.140137   \n",
       "ISIC_0015845                             -1.357670   \n",
       "ISIC_0015864                             -0.158644   \n",
       "ISIC_0015902                             -0.675929   \n",
       "ISIC_0024200                             -0.168294   \n",
       "\n",
       "              index_age_size_symmetry_patient_norm  count_per_patient  \\\n",
       "isic_id                                                                 \n",
       "ISIC_0015670                             -0.148400                510   \n",
       "ISIC_0015845                             -1.044905                113   \n",
       "ISIC_0015864                             -0.479373               1859   \n",
       "ISIC_0015902                             -0.379228                541   \n",
       "ISIC_0024200                             -0.584029                440   \n",
       "\n",
       "              target_effnetv1b0  \n",
       "isic_id                          \n",
       "ISIC_0015670                NaN  \n",
       "ISIC_0015845                NaN  \n",
       "ISIC_0015864                NaN  \n",
       "ISIC_0015902                NaN  \n",
       "ISIC_0024200                NaN  \n",
       "\n",
       "[5 rows x 175 columns]"
      ]
     },
     "execution_count": 17,
     "metadata": {},
     "output_type": "execute_result"
    }
   ],
   "source": [
    "df_train.head()"
   ]
  },
  {
   "cell_type": "code",
   "execution_count": 18,
   "id": "43a70872",
   "metadata": {
    "execution": {
     "iopub.execute_input": "2024-09-06T20:15:07.169668Z",
     "iopub.status.busy": "2024-09-06T20:15:07.168633Z",
     "iopub.status.idle": "2024-09-06T20:15:07.178973Z",
     "shell.execute_reply": "2024-09-06T20:15:07.177964Z"
    },
    "papermill": {
     "duration": 0.027955,
     "end_time": "2024-09-06T20:15:07.181386",
     "exception": false,
     "start_time": "2024-09-06T20:15:07.153431",
     "status": "completed"
    },
    "tags": []
   },
   "outputs": [
    {
     "data": {
      "text/plain": [
       "['tbp_lv_Lext',\n",
       " 'tbp_lv_Cext',\n",
       " 'tbp_lv_symm_2axis',\n",
       " 'sex',\n",
       " 'count_per_patient',\n",
       " 'tbp_lv_eccentricity',\n",
       " 'position_distance_3d_patient_norm',\n",
       " 'perimeter_to_area_ratio_patient_norm',\n",
       " 'tbp_lv_H',\n",
       " 'border_color_interaction_2',\n",
       " 'color_contrast_index',\n",
       " 'tbp_lv_deltaB',\n",
       " 'clin_size_long_diam_mm',\n",
       " 'lesion_size_ratio_patient_norm',\n",
       " 'tbp_lv_deltaA_patient_norm',\n",
       " 'tbp_lv_norm_border',\n",
       " 'border_complexity',\n",
       " 'tbp_lv_Aext_patient_norm',\n",
       " 'tbp_lv_B_patient_norm',\n",
       " 'tbp_lv_deltaL',\n",
       " 'age_normalized_nevi_confidence_patient_norm',\n",
       " 'tbp_lv_stdLExt',\n",
       " 'hue_contrast',\n",
       " 'tbp_lv_A_patient_norm',\n",
       " 'tbp_lv_norm_color',\n",
       " 'tbp_tile_type',\n",
       " 'volume_approximation_3d',\n",
       " 'tbp_lv_radial_color_std_max_patient_norm',\n",
       " 'tbp_lv_nevi_confidence',\n",
       " 'lesion_visibility_score',\n",
       " 'tbp_lv_location_simple',\n",
       " 'tbp_lv_nevi_confidence_patient_norm',\n",
       " 'tbp_lv_color_std_mean',\n",
       " 'tbp_lv_deltaLBnorm',\n",
       " 'tbp_lv_norm_color_patient_norm',\n",
       " 'tbp_lv_Aext',\n",
       " 'lesion_severity_index_patient_norm',\n",
       " 'lesion_orientation_3d',\n",
       " 'log_lesion_area_patient_norm',\n",
       " 'age_normalized_nevi_confidence_2_patient_norm',\n",
       " 'normalized_lesion_size_patient_norm',\n",
       " 'tbp_lv_deltaLB',\n",
       " 'symmetry_perimeter_interaction',\n",
       " 'age_normalized_nevi_confidence_2',\n",
       " 'index_age_size_symmetry_patient_norm',\n",
       " 'color_range_patient_norm',\n",
       " 'tbp_lv_deltaA',\n",
       " 'size_color_contrast_ratio',\n",
       " 'hue_contrast_patient_norm',\n",
       " 'anatom_site_general',\n",
       " 'tbp_lv_C_patient_norm',\n",
       " 'lesion_shape_index_patient_norm',\n",
       " 'tbp_lv_z_patient_norm',\n",
       " 'consistency_color',\n",
       " 'overall_color_difference',\n",
       " 'tbp_lv_C',\n",
       " 'hue_color_std_interaction',\n",
       " 'age_approx_patient_norm',\n",
       " 'std_dev_contrast_patient_norm',\n",
       " 'consistency_symmetry_border_patient_norm',\n",
       " 'color_shape_composite_index_patient_norm',\n",
       " 'tbp_lv_location',\n",
       " 'border_length_ratio',\n",
       " 'tbp_lv_perimeterMM_patient_norm',\n",
       " 'tbp_lv_stdL',\n",
       " 'hue_color_std_interaction_patient_norm',\n",
       " 'tbp_lv_area_perim_ratio_patient_norm',\n",
       " 'tbp_lv_x_patient_norm',\n",
       " 'border_length_ratio_patient_norm',\n",
       " 'tbp_lv_H_patient_norm',\n",
       " 'comprehensive_lesion_index',\n",
       " 'age_normalized_nevi_confidence',\n",
       " 'color_uniformity',\n",
       " 'tbp_lv_Lext_patient_norm',\n",
       " 'tbp_lv_radial_color_std_max',\n",
       " 'consistency_color_patient_norm',\n",
       " 'color_uniformity_patient_norm',\n",
       " 'age_approx',\n",
       " 'log_lesion_area',\n",
       " 'tbp_lv_minorAxisMM',\n",
       " 'comprehensive_lesion_index_patient_norm',\n",
       " 'tbp_lv_symm_2axis_angle_patient_norm',\n",
       " 'attribution',\n",
       " 'color_variance_ratio',\n",
       " 'position_distance_3d',\n",
       " 'size_age_interaction_patient_norm',\n",
       " 'std_dev_contrast',\n",
       " 'shape_complexity_index_patient_norm',\n",
       " 'tbp_lv_L_patient_norm',\n",
       " 'tbp_lv_deltaL_patient_norm',\n",
       " 'shape_complexity_index',\n",
       " 'tbp_lv_deltaLB_patient_norm',\n",
       " 'tbp_lv_color_std_mean_patient_norm',\n",
       " 'tbp_lv_areaMM2',\n",
       " 'size_color_contrast_ratio_patient_norm',\n",
       " 'clin_size_long_diam_mm_patient_norm',\n",
       " 'border_color_interaction_2_patient_norm',\n",
       " 'lesion_shape_index',\n",
       " 'consistency_symmetry_border',\n",
       " 'color_variance_ratio_patient_norm',\n",
       " 'symmetry_perimeter_interaction_patient_norm',\n",
       " 'tbp_lv_L',\n",
       " 'volume_approximation_3d_patient_norm',\n",
       " 'shape_color_consistency_patient_norm',\n",
       " 'tbp_lv_eccentricity_patient_norm',\n",
       " 'tbp_lv_y_patient_norm',\n",
       " 'color_range',\n",
       " 'color_asymmetry_index_patient_norm',\n",
       " 'lesion_color_difference_patient_norm',\n",
       " 'lesion_severity_index',\n",
       " 'tbp_lv_norm_border_patient_norm',\n",
       " 'symmetry_border_consistency_patient_norm',\n",
       " 'tbp_lv_z',\n",
       " 'tbp_lv_symm_2axis_angle',\n",
       " 'tbp_lv_B',\n",
       " 'age_size_symmetry_index',\n",
       " 'border_complexity_patient_norm',\n",
       " 'size_age_interaction',\n",
       " 'tbp_lv_Cext_patient_norm',\n",
       " 'lesion_size_ratio',\n",
       " 'mean_hue_difference_patient_norm',\n",
       " 'tbp_lv_deltaLBnorm_patient_norm',\n",
       " 'index_age_size_symmetry',\n",
       " 'overall_color_difference_patient_norm',\n",
       " 'tbp_lv_x',\n",
       " 'shape_color_consistency',\n",
       " 'color_contrast_index_patient_norm',\n",
       " 'tbp_lv_Bext',\n",
       " 'tbp_lv_y',\n",
       " 'color_asymmetry_index',\n",
       " 'tbp_lv_Bext_patient_norm',\n",
       " 'tbp_lv_minorAxisMM_patient_norm',\n",
       " 'tbp_lv_Hext',\n",
       " 'target_effnetv1b0',\n",
       " 'tbp_lv_stdLExt_patient_norm',\n",
       " 'tbp_lv_stdL_patient_norm',\n",
       " 'tbp_lv_areaMM2_patient_norm',\n",
       " 'luminance_contrast',\n",
       " 'tbp_lv_A',\n",
       " 'tbp_lv_perimeterMM',\n",
       " 'color_shape_composite_index',\n",
       " 'area_to_perimeter_ratio_patient_norm',\n",
       " 'mean_hue_difference',\n",
       " 'tbp_lv_Hext_patient_norm',\n",
       " 'color_consistency_patient_norm',\n",
       " 'age_size_symmetry_index_patient_norm',\n",
       " 'symmetry_border_consistency',\n",
       " 'color_consistency',\n",
       " 'lesion_orientation_3d_patient_norm',\n",
       " 'border_color_interaction',\n",
       " 'lesion_color_difference',\n",
       " 'normalized_lesion_size',\n",
       " 'tbp_lv_area_perim_ratio',\n",
       " 'perimeter_to_area_ratio',\n",
       " 'border_color_interaction_patient_norm',\n",
       " 'lesion_visibility_score_patient_norm',\n",
       " 'area_to_perimeter_ratio',\n",
       " 'tbp_lv_symm_2axis_patient_norm',\n",
       " 'tbp_lv_deltaB_patient_norm',\n",
       " 'luminance_contrast_patient_norm']"
      ]
     },
     "execution_count": 18,
     "metadata": {},
     "output_type": "execute_result"
    }
   ],
   "source": [
    "feature_col"
   ]
  },
  {
   "cell_type": "code",
   "execution_count": 19,
   "id": "33d6120c",
   "metadata": {
    "execution": {
     "iopub.execute_input": "2024-09-06T20:15:07.211660Z",
     "iopub.status.busy": "2024-09-06T20:15:07.210979Z",
     "iopub.status.idle": "2024-09-06T20:15:07.218460Z",
     "shell.execute_reply": "2024-09-06T20:15:07.217479Z"
    },
    "papermill": {
     "duration": 0.024928,
     "end_time": "2024-09-06T20:15:07.220613",
     "exception": false,
     "start_time": "2024-09-06T20:15:07.195685",
     "status": "completed"
    },
    "tags": []
   },
   "outputs": [],
   "source": [
    "from sklearn.metrics import roc_auc_score\n",
    "def score(solution: np.ndarray, submission: np.ndarray, min_tpr: float=0.80) -> float:\n",
    "    v_gt = abs(solution-1)\n",
    "    v_pred = np.array([1.0 - x for x in submission])\n",
    "    max_fpr = abs(1-min_tpr)\n",
    "    partial_auc_scaled = roc_auc_score(v_gt, v_pred, max_fpr=max_fpr)\n",
    "    partial_auc = 0.5 * max_fpr**2 + (max_fpr - 0.5 * max_fpr**2) / (1.0 - 0.5) * (partial_auc_scaled - 0.5)   \n",
    "    return(partial_auc)\n",
    "def pauc_80(true, pred):\n",
    "    score_value = score(true, pred, min_tpr=0.8)\n",
    "    return 'pauc_80', score_value, True"
   ]
  },
  {
   "cell_type": "code",
   "execution_count": 20,
   "id": "d36d995c",
   "metadata": {
    "execution": {
     "iopub.execute_input": "2024-09-06T20:15:07.250268Z",
     "iopub.status.busy": "2024-09-06T20:15:07.249895Z",
     "iopub.status.idle": "2024-09-06T20:15:07.256440Z",
     "shell.execute_reply": "2024-09-06T20:15:07.255466Z"
    },
    "papermill": {
     "duration": 0.023855,
     "end_time": "2024-09-06T20:15:07.258549",
     "exception": false,
     "start_time": "2024-09-06T20:15:07.234694",
     "status": "completed"
    },
    "tags": []
   },
   "outputs": [],
   "source": [
    "params = {'n_estimators': 100,\n",
    " 'learning_rate': 0.26884747970349226,\n",
    " 'num_leaves': 1620,\n",
    " 'max_depth': 10,\n",
    " 'min_data_in_leaf': 1900,\n",
    " 'lambda_l1': 0,\n",
    " 'lambda_l2': 85,\n",
    " 'min_gain_to_split': 0.0012054953103677324,\n",
    " 'bagging_fraction': 0.5,\n",
    " 'bagging_freq': 1,\n",
    " 'feature_fraction': 0.30000000000000004}\n",
    "final_model = lgb.LGBMClassifier(**params,objective='binary',n_jobs=-1,random_state=42,verbosity=-1)"
   ]
  },
  {
   "cell_type": "code",
   "execution_count": 21,
   "id": "2f55964b",
   "metadata": {
    "execution": {
     "iopub.execute_input": "2024-09-06T20:15:07.288421Z",
     "iopub.status.busy": "2024-09-06T20:15:07.288039Z",
     "iopub.status.idle": "2024-09-06T20:15:07.367576Z",
     "shell.execute_reply": "2024-09-06T20:15:07.366619Z"
    },
    "papermill": {
     "duration": 0.097287,
     "end_time": "2024-09-06T20:15:07.370161",
     "exception": false,
     "start_time": "2024-09-06T20:15:07.272874",
     "status": "completed"
    },
    "tags": []
   },
   "outputs": [],
   "source": [
    "X = df_train  \n",
    "patient_image_countss = X.groupby('patient_id').size().to_dict()\n",
    "X['image_count'] = X['patient_id'].map(patient_image_countss)"
   ]
  },
  {
   "cell_type": "code",
   "execution_count": 22,
   "id": "052b8f1b",
   "metadata": {
    "execution": {
     "iopub.execute_input": "2024-09-06T20:15:07.398804Z",
     "iopub.status.busy": "2024-09-06T20:15:07.398439Z",
     "iopub.status.idle": "2024-09-06T20:15:07.515980Z",
     "shell.execute_reply": "2024-09-06T20:15:07.514956Z"
    },
    "papermill": {
     "duration": 0.135037,
     "end_time": "2024-09-06T20:15:07.518831",
     "exception": false,
     "start_time": "2024-09-06T20:15:07.383794",
     "status": "completed"
    },
    "tags": []
   },
   "outputs": [],
   "source": [
    "X2 = df_test\n",
    "patient_image_countss = X2.groupby('patient_id').size().to_dict()\n",
    "X2['image_count'] = X2['patient_id'].map(patient_image_countss)\n",
    "k=1100\n",
    "l=4\n",
    "bins = [i*k for i in range(0,10000//k+1,1)]\n",
    "bins_labels = [i for i in range(len(bins)-1)]\n",
    "X2['image_count_category'] = pd.cut(X['image_count'], bins=bins, labels=bins_labels, include_lowest=True)\n",
    "df_test['image_count_category'] = X2['image_count_category']"
   ]
  },
  {
   "cell_type": "code",
   "execution_count": 23,
   "id": "f2ea4565",
   "metadata": {
    "execution": {
     "iopub.execute_input": "2024-09-06T20:15:07.549779Z",
     "iopub.status.busy": "2024-09-06T20:15:07.549370Z",
     "iopub.status.idle": "2024-09-06T20:15:07.554932Z",
     "shell.execute_reply": "2024-09-06T20:15:07.553945Z"
    },
    "papermill": {
     "duration": 0.02287,
     "end_time": "2024-09-06T20:15:07.557058",
     "exception": false,
     "start_time": "2024-09-06T20:15:07.534188",
     "status": "completed"
    },
    "tags": []
   },
   "outputs": [],
   "source": [
    "# %%time\n",
    "# plot = []\n",
    "# for k in tqdm(range(100,1401,100)):\n",
    "#     bins = [i*k for i in range(0,10000//k+1,1)]\n",
    "#     bins_labels = [i for i in range(len(bins)-1)]\n",
    "#     X['image_count_category'] = pd.cut(X['image_count'], bins=bins, labels=bins_labels, include_lowest=True)\n",
    "#     X['groupss'] = (df_train['target'].astype('str'))+(X['image_count_category'].astype('str'))\n",
    "#     for col in categorical_col:\n",
    "#         df_train[col] = df_train[col].astype('category')\n",
    "#         df_test[col] = df_test[col].astype('category') \n",
    "#     y2 = X['groupss']\n",
    "#     grp = X['patient_id']\n",
    "#     for l in range(2,20,1):\n",
    "#         sgkf = StratifiedGroupKFold(n_splits=l,shuffle=True,random_state=42)\n",
    "#         acc = []\n",
    "#         for i,j in (sgkf.split(X,y2,grp)):\n",
    "#             X_t ,y_t  = df_train[feature_col].loc[i] , df_train['target'].loc[i]\n",
    "#             X_v ,y_v  = df_train[feature_col].loc[j] , df_train['target'].loc[j]   \n",
    "# #             X_t, y_t = X_t.to(device), y_t.to(device)\n",
    "# #             X_v, y_v = X_v.to(device), y_v.to(device)\n",
    "#             final_model.fit(X_t,y_t,categorical_feature=categorical_col)\n",
    "#             acc.append(score(y_v,final_model.predict_proba(X_v)[:,1]))\n",
    "#         plot.append((np.mean(acc),k,l))\n",
    "#         print(f\"When the Bin size is {k} and split {l} : \",np.mean(acc))"
   ]
  },
  {
   "cell_type": "code",
   "execution_count": 24,
   "id": "e6a61881",
   "metadata": {
    "execution": {
     "iopub.execute_input": "2024-09-06T20:15:07.585720Z",
     "iopub.status.busy": "2024-09-06T20:15:07.585361Z",
     "iopub.status.idle": "2024-09-06T20:15:08.293382Z",
     "shell.execute_reply": "2024-09-06T20:15:08.292505Z"
    },
    "papermill": {
     "duration": 0.724775,
     "end_time": "2024-09-06T20:15:08.295817",
     "exception": false,
     "start_time": "2024-09-06T20:15:07.571042",
     "status": "completed"
    },
    "tags": []
   },
   "outputs": [],
   "source": [
    "df_train = df_train.reset_index(drop=True)"
   ]
  },
  {
   "cell_type": "code",
   "execution_count": 25,
   "id": "e80bee84",
   "metadata": {
    "execution": {
     "iopub.execute_input": "2024-09-06T20:15:08.324705Z",
     "iopub.status.busy": "2024-09-06T20:15:08.324327Z",
     "iopub.status.idle": "2024-09-06T20:15:51.510743Z",
     "shell.execute_reply": "2024-09-06T20:15:51.509693Z"
    },
    "papermill": {
     "duration": 43.217639,
     "end_time": "2024-09-06T20:15:51.527083",
     "exception": false,
     "start_time": "2024-09-06T20:15:08.309444",
     "status": "completed"
    },
    "tags": []
   },
   "outputs": [
    {
     "name": "stdout",
     "output_type": "stream",
     "text": [
      "[0.18595876489347693, 0.1670933407754555, 0.1521322171035708, 0.15228555163718985]\n",
      "0.16436746860242327\n",
      "CPU times: user 2min 6s, sys: 2.35 s, total: 2min 8s\n",
      "Wall time: 43.2 s\n"
     ]
    }
   ],
   "source": [
    "%%time\n",
    "k =1100\n",
    "l=4\n",
    "bins = [i*k for i in range(0,10000//k+1,1)]\n",
    "bins_labels = [i for i in range(len(bins)-1)]\n",
    "X['image_count_category'] = pd.cut(X['image_count'], bins=bins, labels=bins_labels, include_lowest=True)\n",
    "X['groupss'] = (df_train['target'].astype('str'))+(X['image_count_category'].astype('str'))\n",
    "for col in categorical_col:\n",
    "    df_train[col] = df_train[col].astype('category')\n",
    "    df_test[col] = df_test[col].astype('category') \n",
    "y2 = X['groupss']\n",
    "grp = X['patient_id']\n",
    "df_train['image_count_category'] = X['image_count_category']\n",
    "feature_col.append('image_count_category')\n",
    "sgkf = StratifiedGroupKFold(n_splits=l,shuffle=True,random_state=42)\n",
    "acc = []\n",
    "for i,j in (sgkf.split(X,df_train['target'],grp)):\n",
    "    X_t ,y_t  = df_train[feature_col].loc[i] , df_train['target'].loc[i]\n",
    "    X_v ,y_v  = df_train[feature_col].loc[j] , df_train['target'].loc[j]   \n",
    "    final_model.fit(X_t,y_t,categorical_feature=categorical_col)\n",
    "    acc.append(score(y_v,final_model.predict_proba(X_v)[:,1]))\n",
    "print(acc)\n",
    "print(np.mean(acc))"
   ]
  },
  {
   "cell_type": "code",
   "execution_count": 26,
   "id": "be86182a",
   "metadata": {
    "execution": {
     "iopub.execute_input": "2024-09-06T20:15:51.558011Z",
     "iopub.status.busy": "2024-09-06T20:15:51.557237Z",
     "iopub.status.idle": "2024-09-06T20:40:22.777427Z",
     "shell.execute_reply": "2024-09-06T20:40:22.776468Z"
    },
    "papermill": {
     "duration": 1471.254525,
     "end_time": "2024-09-06T20:40:22.796010",
     "exception": false,
     "start_time": "2024-09-06T20:15:51.541485",
     "status": "completed"
    },
    "tags": []
   },
   "outputs": [
    {
     "name": "stderr",
     "output_type": "stream",
     "text": [
      "[I 2024-09-06 20:15:51,568] A new study created in memory with name: no-name-b76e5fcf-9ae4-4a7d-ad68-f03c8ffd5c6c\n",
      "[I 2024-09-06 20:16:53,834] Trial 0 finished with value: 0.12732130945982936 and parameters: {'learning_rate': 0.40406530640321725, 'num_leaves': 1898, 'max_depth': 17, 'min_data_in_leaf': 968, 'lambda_l1': 0.941351394075844, 'lambda_l2': 1.5584474042649619, 'min_gain_to_split': 0.0761097500673875, 'bagging_fraction': 0.9230046470410362, 'bagging_freq': 6, 'feature_fraction': 0.6295740039969917}. Best is trial 0 with value: 0.12732130945982936.\n",
      "[I 2024-09-06 20:17:45,730] Trial 1 finished with value: 0.15909055060525615 and parameters: {'learning_rate': 0.0004034804117175516, 'num_leaves': 209, 'max_depth': 20, 'min_data_in_leaf': 283, 'lambda_l1': 1.5256147048737725, 'lambda_l2': 0.4066112170967058, 'min_gain_to_split': 0.06289056010899231, 'bagging_fraction': 0.5225512519172193, 'bagging_freq': 7, 'feature_fraction': 0.7079903944525778}. Best is trial 1 with value: 0.15909055060525615.\n",
      "[I 2024-09-06 20:19:01,394] Trial 2 finished with value: 0.1568196830783726 and parameters: {'learning_rate': 0.00033647922199277273, 'num_leaves': 2042, 'max_depth': 18, 'min_data_in_leaf': 1362, 'lambda_l1': 4.204047182342076, 'lambda_l2': 0.11025611020646131, 'min_gain_to_split': 0.05772369969368861, 'bagging_fraction': 0.9579359360446368, 'bagging_freq': 3, 'feature_fraction': 0.9345730748994696}. Best is trial 1 with value: 0.15909055060525615.\n",
      "[I 2024-09-06 20:20:12,782] Trial 3 finished with value: 0.166021711012853 and parameters: {'learning_rate': 0.036480742106277574, 'num_leaves': 534, 'max_depth': 13, 'min_data_in_leaf': 1922, 'lambda_l1': 1.7129910927664587, 'lambda_l2': 1.2389035369289234, 'min_gain_to_split': 0.020527985499961186, 'bagging_fraction': 0.7652984674559319, 'bagging_freq': 2, 'feature_fraction': 0.7408136710008363}. Best is trial 3 with value: 0.166021711012853.\n",
      "[I 2024-09-06 20:21:16,423] Trial 4 finished with value: 0.1583230141429769 and parameters: {'learning_rate': 0.22487451082629048, 'num_leaves': 359, 'max_depth': 15, 'min_data_in_leaf': 1824, 'lambda_l1': 1.83864145274509, 'lambda_l2': 2.9983134666904445, 'min_gain_to_split': 0.08984320951397874, 'bagging_fraction': 0.6977663006480577, 'bagging_freq': 5, 'feature_fraction': 0.6619797870717816}. Best is trial 3 with value: 0.166021711012853.\n",
      "[I 2024-09-06 20:22:04,359] Trial 5 finished with value: 0.14103979805170194 and parameters: {'learning_rate': 0.0887358607709494, 'num_leaves': 2041, 'max_depth': 20, 'min_data_in_leaf': 1832, 'lambda_l1': 66.92583218932624, 'lambda_l2': 0.4231603754687299, 'min_gain_to_split': 0.08995740902439449, 'bagging_fraction': 0.7782338858004196, 'bagging_freq': 4, 'feature_fraction': 0.6902261354712642}. Best is trial 3 with value: 0.166021711012853.\n",
      "[I 2024-09-06 20:23:07,324] Trial 6 finished with value: 0.15470274811539664 and parameters: {'learning_rate': 0.002866882723202252, 'num_leaves': 1884, 'max_depth': 17, 'min_data_in_leaf': 1604, 'lambda_l1': 17.31886485010289, 'lambda_l2': 8.871310671242371, 'min_gain_to_split': 0.0705349783610704, 'bagging_fraction': 0.9223731138042456, 'bagging_freq': 6, 'feature_fraction': 0.7790452436848097}. Best is trial 3 with value: 0.166021711012853.\n",
      "[I 2024-09-06 20:23:59,489] Trial 7 finished with value: 0.15913636170561427 and parameters: {'learning_rate': 0.08328696708194491, 'num_leaves': 1149, 'max_depth': 17, 'min_data_in_leaf': 1463, 'lambda_l1': 13.402155936042822, 'lambda_l2': 52.08590763426226, 'min_gain_to_split': 0.04325411946509647, 'bagging_fraction': 0.5176202118260731, 'bagging_freq': 5, 'feature_fraction': 0.9358926258638421}. Best is trial 3 with value: 0.166021711012853.\n",
      "[I 2024-09-06 20:25:05,877] Trial 8 finished with value: 0.16533315537971943 and parameters: {'learning_rate': 0.11471668676073896, 'num_leaves': 1943, 'max_depth': 15, 'min_data_in_leaf': 388, 'lambda_l1': 0.33556035101326587, 'lambda_l2': 26.09387229227928, 'min_gain_to_split': 0.03325185514948174, 'bagging_fraction': 0.792022240459846, 'bagging_freq': 1, 'feature_fraction': 0.6062104210188664}. Best is trial 3 with value: 0.166021711012853.\n",
      "[I 2024-09-06 20:26:09,703] Trial 9 finished with value: 0.15092212546090283 and parameters: {'learning_rate': 0.4053333591457173, 'num_leaves': 813, 'max_depth': 17, 'min_data_in_leaf': 266, 'lambda_l1': 0.8545393800030887, 'lambda_l2': 10.765663085911031, 'min_gain_to_split': 0.08554039053065614, 'bagging_fraction': 0.926705928520071, 'bagging_freq': 2, 'feature_fraction': 0.6726257321449068}. Best is trial 3 with value: 0.166021711012853.\n",
      "[I 2024-09-06 20:26:58,200] Trial 10 finished with value: 0.16060658048206153 and parameters: {'learning_rate': 0.013955105461404488, 'num_leaves': 774, 'max_depth': 7, 'min_data_in_leaf': 951, 'lambda_l1': 0.18285740513288695, 'lambda_l2': 0.9545616681905582, 'min_gain_to_split': 0.0064349362388540846, 'bagging_fraction': 0.6424745100721487, 'bagging_freq': 1, 'feature_fraction': 0.42835085547135404}. Best is trial 3 with value: 0.166021711012853.\n",
      "[I 2024-09-06 20:27:49,483] Trial 11 finished with value: 0.1517627188925487 and parameters: {'learning_rate': 0.0130167826561022, 'num_leaves': 1392, 'max_depth': 12, 'min_data_in_leaf': 495, 'lambda_l1': 0.12071494679681902, 'lambda_l2': 93.50447064625683, 'min_gain_to_split': 0.028122097978642745, 'bagging_fraction': 0.7948227004635744, 'bagging_freq': 1, 'feature_fraction': 0.4841348082757795}. Best is trial 3 with value: 0.166021711012853.\n",
      "[I 2024-09-06 20:28:47,571] Trial 12 finished with value: 0.16321815539947976 and parameters: {'learning_rate': 0.04425708755296284, 'num_leaves': 605, 'max_depth': 12, 'min_data_in_leaf': 644, 'lambda_l1': 0.2817269002088862, 'lambda_l2': 16.175861144109426, 'min_gain_to_split': 0.018563350059863405, 'bagging_fraction': 0.8020775831504083, 'bagging_freq': 2, 'feature_fraction': 0.554651985729483}. Best is trial 3 with value: 0.166021711012853.\n",
      "[I 2024-09-06 20:29:39,561] Trial 13 finished with value: 0.15213080985418614 and parameters: {'learning_rate': 0.0023393964770312423, 'num_leaves': 1422, 'max_depth': 8, 'min_data_in_leaf': 1185, 'lambda_l1': 0.45778305431222116, 'lambda_l2': 25.06481106700369, 'min_gain_to_split': 0.04112639914477248, 'bagging_fraction': 0.63495252193488, 'bagging_freq': 2, 'feature_fraction': 0.8149986273126588}. Best is trial 3 with value: 0.166021711012853.\n",
      "[I 2024-09-06 20:30:30,870] Trial 14 finished with value: 0.11043458395102546 and parameters: {'learning_rate': 0.9480919483722869, 'num_leaves': 1517, 'max_depth': 4, 'min_data_in_leaf': 96, 'lambda_l1': 3.6303756384968198, 'lambda_l2': 5.477216966078338, 'min_gain_to_split': 0.028023677318547737, 'bagging_fraction': 0.8375299082833817, 'bagging_freq': 3, 'feature_fraction': 0.5703545973565946}. Best is trial 3 with value: 0.166021711012853.\n",
      "[I 2024-09-06 20:31:39,287] Trial 15 finished with value: 0.165769784784147 and parameters: {'learning_rate': 0.03398897185831976, 'num_leaves': 75, 'max_depth': 13, 'min_data_in_leaf': 791, 'lambda_l1': 0.45516635496882113, 'lambda_l2': 3.0478067325178313, 'min_gain_to_split': 0.006073154180526926, 'bagging_fraction': 0.7073198254020693, 'bagging_freq': 1, 'feature_fraction': 0.8216030763170223}. Best is trial 3 with value: 0.166021711012853.\n",
      "[I 2024-09-06 20:32:32,781] Trial 16 finished with value: 0.15649961501745696 and parameters: {'learning_rate': 0.0038792881507411724, 'num_leaves': 39, 'max_depth': 9, 'min_data_in_leaf': 731, 'lambda_l1': 9.519767580027805, 'lambda_l2': 2.7043199027952873, 'min_gain_to_split': 0.0030239624570833003, 'bagging_fraction': 0.6099473845320779, 'bagging_freq': 3, 'feature_fraction': 0.8696824121113721}. Best is trial 3 with value: 0.166021711012853.\n",
      "[I 2024-09-06 20:33:22,551] Trial 17 finished with value: 0.16319390363052766 and parameters: {'learning_rate': 0.027308111572796317, 'num_leaves': 447, 'max_depth': 14, 'min_data_in_leaf': 1981, 'lambda_l1': 0.7006031311369495, 'lambda_l2': 0.7619102470931433, 'min_gain_to_split': 0.01534976717850027, 'bagging_fraction': 0.416357593895239, 'bagging_freq': 2, 'feature_fraction': 0.7652481408636714}. Best is trial 3 with value: 0.166021711012853.\n",
      "[I 2024-09-06 20:34:19,047] Trial 18 finished with value: 0.15614036475978552 and parameters: {'learning_rate': 0.001014852067290034, 'num_leaves': 44, 'max_depth': 11, 'min_data_in_leaf': 1182, 'lambda_l1': 6.157703328938305, 'lambda_l2': 0.12358852655718854, 'min_gain_to_split': 0.015014828403547727, 'bagging_fraction': 0.6823996386742525, 'bagging_freq': 1, 'feature_fraction': 0.8479091761455233}. Best is trial 3 with value: 0.166021711012853.\n",
      "[I 2024-09-06 20:35:21,618] Trial 19 finished with value: 0.1596021515276051 and parameters: {'learning_rate': 0.0069944656787132384, 'num_leaves': 526, 'max_depth': 10, 'min_data_in_leaf': 779, 'lambda_l1': 1.8966475042058142, 'lambda_l2': 5.182495489499863, 'min_gain_to_split': 0.004888158387064745, 'bagging_fraction': 0.8651348204876129, 'bagging_freq': 4, 'feature_fraction': 0.7571260321124159}. Best is trial 3 with value: 0.166021711012853.\n",
      "[I 2024-09-06 20:36:22,459] Trial 20 finished with value: 0.15828953511323013 and parameters: {'learning_rate': 0.025025668598016096, 'num_leaves': 286, 'max_depth': 13, 'min_data_in_leaf': 1156, 'lambda_l1': 32.80435578893344, 'lambda_l2': 1.5461384622331535, 'min_gain_to_split': 0.022472014348452016, 'bagging_fraction': 0.7237421700742179, 'bagging_freq': 3, 'feature_fraction': 0.9990223706134898}. Best is trial 3 with value: 0.166021711012853.\n",
      "[I 2024-09-06 20:37:21,033] Trial 21 finished with value: 0.165201680251135 and parameters: {'learning_rate': 0.10803033627677529, 'num_leaves': 1015, 'max_depth': 15, 'min_data_in_leaf': 506, 'lambda_l1': 0.3973657399583694, 'lambda_l2': 26.182841335770714, 'min_gain_to_split': 0.03295725999847647, 'bagging_fraction': 0.7367702498863843, 'bagging_freq': 1, 'feature_fraction': 0.5863585311184156}. Best is trial 3 with value: 0.166021711012853.\n",
      "[I 2024-09-06 20:38:28,431] Trial 22 finished with value: 0.16488945882522654 and parameters: {'learning_rate': 0.0476221729923074, 'num_leaves': 682, 'max_depth': 14, 'min_data_in_leaf': 419, 'lambda_l1': 0.23311182975028294, 'lambda_l2': 5.17579134030374, 'min_gain_to_split': 0.04056271961839378, 'bagging_fraction': 0.7517676561109208, 'bagging_freq': 1, 'feature_fraction': 0.7285862155650935}. Best is trial 3 with value: 0.166021711012853.\n",
      "[I 2024-09-06 20:39:33,411] Trial 23 finished with value: 0.15338268932209476 and parameters: {'learning_rate': 0.22198811725542197, 'num_leaves': 188, 'max_depth': 15, 'min_data_in_leaf': 849, 'lambda_l1': 0.12696559450408051, 'lambda_l2': 2.090896944062742, 'min_gain_to_split': 0.011515955270799141, 'bagging_fraction': 0.8539253521382562, 'bagging_freq': 2, 'feature_fraction': 0.5066364544520917}. Best is trial 3 with value: 0.166021711012853.\n",
      "[I 2024-09-06 20:40:22,772] Trial 24 finished with value: 0.1579186001093487 and parameters: {'learning_rate': 0.00010515922953335822, 'num_leaves': 959, 'max_depth': 11, 'min_data_in_leaf': 636, 'lambda_l1': 0.44048526056320636, 'lambda_l2': 0.3220257167381745, 'min_gain_to_split': 0.051707518303516324, 'bagging_fraction': 0.5714974856947183, 'bagging_freq': 1, 'feature_fraction': 0.6258301097211972}. Best is trial 3 with value: 0.166021711012853.\n"
     ]
    },
    {
     "name": "stdout",
     "output_type": "stream",
     "text": [
      "Best trial: 0.166021711012853\n",
      "Best hyperparameters: {'learning_rate': 0.036480742106277574, 'num_leaves': 534, 'max_depth': 13, 'min_data_in_leaf': 1922, 'lambda_l1': 1.7129910927664587, 'lambda_l2': 1.2389035369289234, 'min_gain_to_split': 0.020527985499961186, 'bagging_fraction': 0.7652984674559319, 'bagging_freq': 2, 'feature_fraction': 0.7408136710008363}\n"
     ]
    }
   ],
   "source": [
    "import lightgbm as lgb\n",
    "import pandas as pd\n",
    "import numpy as np\n",
    "from sklearn.model_selection import StratifiedGroupKFold\n",
    "import optuna\n",
    "from optuna.samplers import TPESampler\n",
    "\n",
    "# Objective function for Optuna optimization\n",
    "def objective(trial):\n",
    "    # Sample hyperparameters\n",
    "    params = {\n",
    "        'n_estimators': 100,\n",
    "        'learning_rate': trial.suggest_float('learning_rate', 1e-4, 1.0, log=True),\n",
    "        'num_leaves': trial.suggest_int('num_leaves', 31, 2048),\n",
    "        'max_depth': trial.suggest_int('max_depth', 3, 20),\n",
    "        'min_data_in_leaf': trial.suggest_int('min_data_in_leaf', 50, 2000),\n",
    "        'lambda_l1': trial.suggest_float('lambda_l1', 0.1, 100, log=True),\n",
    "        'lambda_l2': trial.suggest_float('lambda_l2', 0.1, 100, log=True),\n",
    "        'min_gain_to_split': trial.suggest_float('min_gain_to_split', 0.001, 0.1),\n",
    "        'bagging_fraction': trial.suggest_float('bagging_fraction', 0.4, 1.0),\n",
    "        'bagging_freq': trial.suggest_int('bagging_freq', 1, 7),\n",
    "        'feature_fraction': trial.suggest_float('feature_fraction', 0.4, 1.0)\n",
    "    }\n",
    "    \n",
    "    final_model = lgb.LGBMClassifier(**params, objective='binary', n_jobs=-1, random_state=42, verbosity=-1)\n",
    "    \n",
    "    # Cross-validation setup (StratifiedGroupKFold)\n",
    "    sgkf = StratifiedGroupKFold(n_splits=4, shuffle=True, random_state=42)\n",
    "    \n",
    "    acc = []\n",
    "    for i, j in sgkf.split(X, df_train['target'], grp):\n",
    "        X_train, y_train = df_train[feature_col].loc[i], df_train['target'].loc[i]\n",
    "        X_valid, y_valid = df_train[feature_col].loc[j], df_train['target'].loc[j]\n",
    "        \n",
    "        # Fit the model\n",
    "        final_model.fit(X_train, y_train, categorical_feature=categorical_col)\n",
    "        \n",
    "        # Get predictions and calculate accuracy or any other score\n",
    "        y_pred = final_model.predict_proba(X_valid)[:, 1]\n",
    "        acc.append(score(y_valid, y_pred))\n",
    "    \n",
    "    # Return the mean of cross-validation results\n",
    "    return np.mean(acc)\n",
    "\n",
    "# Set up Optuna study\n",
    "study = optuna.create_study(direction='maximize', sampler=TPESampler())\n",
    "\n",
    "# Start optimization\n",
    "study.optimize(objective, n_trials=25)\n",
    "\n",
    "# Print best trial\n",
    "print(f\"Best trial: {study.best_trial.value}\")\n",
    "print(f\"Best hyperparameters: {study.best_trial.params}\")"
   ]
  },
  {
   "cell_type": "code",
   "execution_count": 27,
   "id": "23a9495c",
   "metadata": {
    "execution": {
     "iopub.execute_input": "2024-09-06T20:40:22.829466Z",
     "iopub.status.busy": "2024-09-06T20:40:22.828567Z",
     "iopub.status.idle": "2024-09-06T20:40:22.833573Z",
     "shell.execute_reply": "2024-09-06T20:40:22.832780Z"
    },
    "papermill": {
     "duration": 0.02428,
     "end_time": "2024-09-06T20:40:22.835757",
     "exception": false,
     "start_time": "2024-09-06T20:40:22.811477",
     "status": "completed"
    },
    "tags": []
   },
   "outputs": [],
   "source": [
    "# import matplotlib.pyplot as plt\n",
    "\n",
    "# # Given data\n",
    "# data = plot\n",
    "# # Extracting values for plotting\n",
    "# accuracies = [x[0] for x in data]\n",
    "# bin_sizes = [x[1] for x in data]\n",
    "# splits = [x[2] for x in data]\n",
    "\n",
    "# # Plotting\n",
    "# plt.figure(figsize=(8, 6))\n",
    "\n",
    "# # Plot with different markers for each split\n",
    "# for split in set(splits):\n",
    "#     plt.scatter(\n",
    "#         [bin_sizes[i] for i in range(len(splits)) if splits[i] == split],\n",
    "#         [accuracies[i] for i in range(len(splits)) if splits[i] == split],\n",
    "#         label=f'Number of Splits = {split}',\n",
    "#         s=100  # Size of the points\n",
    "#     )\n",
    "\n",
    "# # Adding labels and title\n",
    "# plt.xlabel('Bin Size')\n",
    "# plt.ylabel('Accuracy')\n",
    "# plt.title('Accuracy vs Bin Size for Different Numbers of Splits')\n",
    "# plt.legend()\n",
    "# plt.grid(True)\n",
    "\n",
    "# # Show the plot\n",
    "# plt.show()"
   ]
  },
  {
   "cell_type": "code",
   "execution_count": 28,
   "id": "d190c5d7",
   "metadata": {
    "execution": {
     "iopub.execute_input": "2024-09-06T20:40:22.868574Z",
     "iopub.status.busy": "2024-09-06T20:40:22.867927Z",
     "iopub.status.idle": "2024-09-06T20:40:22.871959Z",
     "shell.execute_reply": "2024-09-06T20:40:22.871023Z"
    },
    "papermill": {
     "duration": 0.022756,
     "end_time": "2024-09-06T20:40:22.874522",
     "exception": false,
     "start_time": "2024-09-06T20:40:22.851766",
     "status": "completed"
    },
    "tags": []
   },
   "outputs": [],
   "source": [
    "# df_test.head()\n",
    "# feature_col = list(set(df_train.columns)&set(df_test.columns)) #.14900"
   ]
  },
  {
   "cell_type": "code",
   "execution_count": 29,
   "id": "5de18c2b",
   "metadata": {
    "execution": {
     "iopub.execute_input": "2024-09-06T20:40:22.908734Z",
     "iopub.status.busy": "2024-09-06T20:40:22.908087Z",
     "iopub.status.idle": "2024-09-06T20:40:22.912727Z",
     "shell.execute_reply": "2024-09-06T20:40:22.911691Z"
    },
    "papermill": {
     "duration": 0.024313,
     "end_time": "2024-09-06T20:40:22.914830",
     "exception": false,
     "start_time": "2024-09-06T20:40:22.890517",
     "status": "completed"
    },
    "tags": []
   },
   "outputs": [],
   "source": [
    "# df_train[feature_col].info()\n",
    "# for i in feature_col:\n",
    "#     if df_train[i].dtype=='object':\n",
    "#         df_train[i] = df_train[i].astype('category')\n",
    "#         df_test[i] = df_test[i].astype('category')"
   ]
  },
  {
   "cell_type": "code",
   "execution_count": 30,
   "id": "6beea7a9",
   "metadata": {
    "execution": {
     "iopub.execute_input": "2024-09-06T20:40:22.948330Z",
     "iopub.status.busy": "2024-09-06T20:40:22.947469Z",
     "iopub.status.idle": "2024-09-06T20:40:22.951972Z",
     "shell.execute_reply": "2024-09-06T20:40:22.950933Z"
    },
    "papermill": {
     "duration": 0.023367,
     "end_time": "2024-09-06T20:40:22.953997",
     "exception": false,
     "start_time": "2024-09-06T20:40:22.930630",
     "status": "completed"
    },
    "tags": []
   },
   "outputs": [],
   "source": [
    "# df_train= df_train.reset_index(drop=True)"
   ]
  },
  {
   "cell_type": "code",
   "execution_count": 31,
   "id": "d671d0c3",
   "metadata": {
    "execution": {
     "iopub.execute_input": "2024-09-06T20:40:22.988104Z",
     "iopub.status.busy": "2024-09-06T20:40:22.987195Z",
     "iopub.status.idle": "2024-09-06T20:40:22.991319Z",
     "shell.execute_reply": "2024-09-06T20:40:22.990408Z"
    },
    "papermill": {
     "duration": 0.023614,
     "end_time": "2024-09-06T20:40:22.993346",
     "exception": false,
     "start_time": "2024-09-06T20:40:22.969732",
     "status": "completed"
    },
    "tags": []
   },
   "outputs": [],
   "source": [
    "# df_train[feature_col].head()\n",
    "# df_test.head()"
   ]
  },
  {
   "cell_type": "code",
   "execution_count": 32,
   "id": "36f1f457",
   "metadata": {
    "execution": {
     "iopub.execute_input": "2024-09-06T20:40:23.028093Z",
     "iopub.status.busy": "2024-09-06T20:40:23.027700Z",
     "iopub.status.idle": "2024-09-06T20:40:23.033432Z",
     "shell.execute_reply": "2024-09-06T20:40:23.032300Z"
    },
    "papermill": {
     "duration": 0.02593,
     "end_time": "2024-09-06T20:40:23.035598",
     "exception": false,
     "start_time": "2024-09-06T20:40:23.009668",
     "status": "completed"
    },
    "tags": []
   },
   "outputs": [],
   "source": [
    "final_model2 = lgb.LGBMClassifier(**study.best_trial.params,objective='binary',n_jobs=-1,random_state=42,verbosity=-1)"
   ]
  },
  {
   "cell_type": "code",
   "execution_count": 33,
   "id": "c248d0ce",
   "metadata": {
    "execution": {
     "iopub.execute_input": "2024-09-06T20:40:23.070775Z",
     "iopub.status.busy": "2024-09-06T20:40:23.070411Z",
     "iopub.status.idle": "2024-09-06T20:40:42.922796Z",
     "shell.execute_reply": "2024-09-06T20:40:42.921679Z"
    },
    "papermill": {
     "duration": 19.872659,
     "end_time": "2024-09-06T20:40:42.925104",
     "exception": false,
     "start_time": "2024-09-06T20:40:23.052445",
     "status": "completed"
    },
    "tags": []
   },
   "outputs": [
    {
     "data": {
      "text/html": [
       "<style>#sk-container-id-1 {color: black;background-color: white;}#sk-container-id-1 pre{padding: 0;}#sk-container-id-1 div.sk-toggleable {background-color: white;}#sk-container-id-1 label.sk-toggleable__label {cursor: pointer;display: block;width: 100%;margin-bottom: 0;padding: 0.3em;box-sizing: border-box;text-align: center;}#sk-container-id-1 label.sk-toggleable__label-arrow:before {content: \"▸\";float: left;margin-right: 0.25em;color: #696969;}#sk-container-id-1 label.sk-toggleable__label-arrow:hover:before {color: black;}#sk-container-id-1 div.sk-estimator:hover label.sk-toggleable__label-arrow:before {color: black;}#sk-container-id-1 div.sk-toggleable__content {max-height: 0;max-width: 0;overflow: hidden;text-align: left;background-color: #f0f8ff;}#sk-container-id-1 div.sk-toggleable__content pre {margin: 0.2em;color: black;border-radius: 0.25em;background-color: #f0f8ff;}#sk-container-id-1 input.sk-toggleable__control:checked~div.sk-toggleable__content {max-height: 200px;max-width: 100%;overflow: auto;}#sk-container-id-1 input.sk-toggleable__control:checked~label.sk-toggleable__label-arrow:before {content: \"▾\";}#sk-container-id-1 div.sk-estimator input.sk-toggleable__control:checked~label.sk-toggleable__label {background-color: #d4ebff;}#sk-container-id-1 div.sk-label input.sk-toggleable__control:checked~label.sk-toggleable__label {background-color: #d4ebff;}#sk-container-id-1 input.sk-hidden--visually {border: 0;clip: rect(1px 1px 1px 1px);clip: rect(1px, 1px, 1px, 1px);height: 1px;margin: -1px;overflow: hidden;padding: 0;position: absolute;width: 1px;}#sk-container-id-1 div.sk-estimator {font-family: monospace;background-color: #f0f8ff;border: 1px dotted black;border-radius: 0.25em;box-sizing: border-box;margin-bottom: 0.5em;}#sk-container-id-1 div.sk-estimator:hover {background-color: #d4ebff;}#sk-container-id-1 div.sk-parallel-item::after {content: \"\";width: 100%;border-bottom: 1px solid gray;flex-grow: 1;}#sk-container-id-1 div.sk-label:hover label.sk-toggleable__label {background-color: #d4ebff;}#sk-container-id-1 div.sk-serial::before {content: \"\";position: absolute;border-left: 1px solid gray;box-sizing: border-box;top: 0;bottom: 0;left: 50%;z-index: 0;}#sk-container-id-1 div.sk-serial {display: flex;flex-direction: column;align-items: center;background-color: white;padding-right: 0.2em;padding-left: 0.2em;position: relative;}#sk-container-id-1 div.sk-item {position: relative;z-index: 1;}#sk-container-id-1 div.sk-parallel {display: flex;align-items: stretch;justify-content: center;background-color: white;position: relative;}#sk-container-id-1 div.sk-item::before, #sk-container-id-1 div.sk-parallel-item::before {content: \"\";position: absolute;border-left: 1px solid gray;box-sizing: border-box;top: 0;bottom: 0;left: 50%;z-index: -1;}#sk-container-id-1 div.sk-parallel-item {display: flex;flex-direction: column;z-index: 1;position: relative;background-color: white;}#sk-container-id-1 div.sk-parallel-item:first-child::after {align-self: flex-end;width: 50%;}#sk-container-id-1 div.sk-parallel-item:last-child::after {align-self: flex-start;width: 50%;}#sk-container-id-1 div.sk-parallel-item:only-child::after {width: 0;}#sk-container-id-1 div.sk-dashed-wrapped {border: 1px dashed gray;margin: 0 0.4em 0.5em 0.4em;box-sizing: border-box;padding-bottom: 0.4em;background-color: white;}#sk-container-id-1 div.sk-label label {font-family: monospace;font-weight: bold;display: inline-block;line-height: 1.2em;}#sk-container-id-1 div.sk-label-container {text-align: center;}#sk-container-id-1 div.sk-container {/* jupyter's `normalize.less` sets `[hidden] { display: none; }` but bootstrap.min.css set `[hidden] { display: none !important; }` so we also need the `!important` here to be able to override the default hidden behavior on the sphinx rendered scikit-learn.org. See: https://github.com/scikit-learn/scikit-learn/issues/21755 */display: inline-block !important;position: relative;}#sk-container-id-1 div.sk-text-repr-fallback {display: none;}</style><div id=\"sk-container-id-1\" class=\"sk-top-container\"><div class=\"sk-text-repr-fallback\"><pre>LGBMClassifier(bagging_fraction=0.7652984674559319, bagging_freq=2,\n",
       "               feature_fraction=0.7408136710008363,\n",
       "               lambda_l1=1.7129910927664587, lambda_l2=1.2389035369289234,\n",
       "               learning_rate=0.036480742106277574, max_depth=13,\n",
       "               min_data_in_leaf=1922, min_gain_to_split=0.020527985499961186,\n",
       "               n_jobs=-1, num_leaves=534, objective=&#x27;binary&#x27;, random_state=42,\n",
       "               verbosity=-1)</pre><b>In a Jupyter environment, please rerun this cell to show the HTML representation or trust the notebook. <br />On GitHub, the HTML representation is unable to render, please try loading this page with nbviewer.org.</b></div><div class=\"sk-container\" hidden><div class=\"sk-item\"><div class=\"sk-estimator sk-toggleable\"><input class=\"sk-toggleable__control sk-hidden--visually\" id=\"sk-estimator-id-1\" type=\"checkbox\" checked><label for=\"sk-estimator-id-1\" class=\"sk-toggleable__label sk-toggleable__label-arrow\">LGBMClassifier</label><div class=\"sk-toggleable__content\"><pre>LGBMClassifier(bagging_fraction=0.7652984674559319, bagging_freq=2,\n",
       "               feature_fraction=0.7408136710008363,\n",
       "               lambda_l1=1.7129910927664587, lambda_l2=1.2389035369289234,\n",
       "               learning_rate=0.036480742106277574, max_depth=13,\n",
       "               min_data_in_leaf=1922, min_gain_to_split=0.020527985499961186,\n",
       "               n_jobs=-1, num_leaves=534, objective=&#x27;binary&#x27;, random_state=42,\n",
       "               verbosity=-1)</pre></div></div></div></div></div>"
      ],
      "text/plain": [
       "LGBMClassifier(bagging_fraction=0.7652984674559319, bagging_freq=2,\n",
       "               feature_fraction=0.7408136710008363,\n",
       "               lambda_l1=1.7129910927664587, lambda_l2=1.2389035369289234,\n",
       "               learning_rate=0.036480742106277574, max_depth=13,\n",
       "               min_data_in_leaf=1922, min_gain_to_split=0.020527985499961186,\n",
       "               n_jobs=-1, num_leaves=534, objective='binary', random_state=42,\n",
       "               verbosity=-1)"
      ]
     },
     "execution_count": 33,
     "metadata": {},
     "output_type": "execute_result"
    }
   ],
   "source": [
    "final_model2.fit(df_train[feature_col],df_train['target'])"
   ]
  },
  {
   "cell_type": "code",
   "execution_count": 34,
   "id": "d2be2fad",
   "metadata": {
    "execution": {
     "iopub.execute_input": "2024-09-06T20:40:42.962319Z",
     "iopub.status.busy": "2024-09-06T20:40:42.961721Z",
     "iopub.status.idle": "2024-09-06T20:40:44.613406Z",
     "shell.execute_reply": "2024-09-06T20:40:44.612339Z"
    },
    "papermill": {
     "duration": 1.67603,
     "end_time": "2024-09-06T20:40:44.618751",
     "exception": false,
     "start_time": "2024-09-06T20:40:42.942721",
     "status": "completed"
    },
    "tags": []
   },
   "outputs": [
    {
     "data": {
      "image/png": "[encoded data removed]",
      "text/plain": [
       "<Figure size 640x480 with 1 Axes>"
      ]
     },
     "metadata": {},
     "output_type": "display_data"
    }
   ],
   "source": [
    "import matplotlib.pyplot as plt\n",
    "\n",
    "# Plot feature importance\n",
    "lgb.plot_importance(final_model2, max_num_features=100, importance_type='gain')\n",
    "plt.title(\"Feature Importance\")\n",
    "plt.show()"
   ]
  },
  {
   "cell_type": "code",
   "execution_count": 35,
   "id": "44876e1d",
   "metadata": {
    "execution": {
     "iopub.execute_input": "2024-09-06T20:40:44.662430Z",
     "iopub.status.busy": "2024-09-06T20:40:44.662030Z",
     "iopub.status.idle": "2024-09-06T20:40:45.824731Z",
     "shell.execute_reply": "2024-09-06T20:40:45.823549Z"
    },
    "papermill": {
     "duration": 1.187935,
     "end_time": "2024-09-06T20:40:45.827466",
     "exception": false,
     "start_time": "2024-09-06T20:40:44.639531",
     "status": "completed"
    },
    "tags": []
   },
   "outputs": [
    {
     "name": "stdout",
     "output_type": "stream",
     "text": [
      "isic_id,target\r\n",
      "ISIC_0015657,0.00015570955021453986\r\n",
      "ISIC_0015729,6.656320571273799e-05\r\n",
      "ISIC_0015740,0.0002665958253557025\r\n"
     ]
    }
   ],
   "source": [
    "X_test = df_test[feature_col]\n",
    "sub = pd.DataFrame({'target':final_model2.predict_proba(X_test)[:,1]},index=ind)\n",
    "sub.to_csv('submission.csv')\n",
    "!head submission.csv"
   ]
  },
  {
   "cell_type": "code",
   "execution_count": null,
   "id": "acdea3e2",
   "metadata": {
    "papermill": {
     "duration": 0.018595,
     "end_time": "2024-09-06T20:40:45.865598",
     "exception": false,
     "start_time": "2024-09-06T20:40:45.847003",
     "status": "completed"
    },
    "tags": []
   },
   "outputs": [],
   "source": []
  }
 ],
 "metadata": {
  "kaggle": {
   "accelerator": "gpu",
   "dataSources": [
    {
     "databundleVersionId": 9094797,
     "sourceId": 63056,
     "sourceType": "competition"
    },
    {
     "datasetId": 5415918,
     "sourceId": 8991790,
     "sourceType": "datasetVersion"
    },
    {
     "sourceId": 188543089,
     "sourceType": "kernelVersion"
    },
    {
     "sourceId": 188602899,
     "sourceType": "kernelVersion"
    },
    {
     "sourceId": 194160587,
     "sourceType": "kernelVersion"
    },
    {
     "sourceId": 195334918,
     "sourceType": "kernelVersion"
    },
    {
     "sourceId": 195335050,
     "sourceType": "kernelVersion"
    },
    {
     "sourceId": 195617889,
     "sourceType": "kernelVersion"
    }
   ],
   "dockerImageVersionId": 30746,
   "isGpuEnabled": true,
   "isInternetEnabled": false,
   "language": "python",
   "sourceType": "notebook"
  },
  "kernelspec": {
   "display_name": "Python 3",
   "language": "python",
   "name": "python3"
  },
  "language_info": {
   "codemirror_mode": {
    "name": "ipython",
    "version": 3
   },
   "file_extension": ".py",
   "mimetype": "text/x-python",
   "name": "python",
   "nbconvert_exporter": "python",
   "pygments_lexer": "ipython3",
   "version": "3.10.13"
  },
  "papermill": {
   "default_parameters": {},
   "duration": 1664.451219,
   "end_time": "2024-09-06T20:40:47.011000",
   "environment_variables": {},
   "exception": null,
   "input_path": "__notebook__.ipynb",
   "output_path": "__notebook__.ipynb",
   "parameters": {},
   "start_time": "2024-09-06T20:13:02.559781",
   "version": "2.5.0"
  }
 },
 "nbformat": 4,
 "nbformat_minor": 5
}
